{
 "cells": [
  {
   "cell_type": "code",
   "execution_count": 103,
   "metadata": {},
   "outputs": [],
   "source": [
    "import matplotlib.pyplot as plt\n",
    "import numpy as np\n",
    "import pandas as pd\n",
    "%matplotlib inline"
   ]
  },
  {
   "cell_type": "code",
   "execution_count": 104,
   "metadata": {},
   "outputs": [],
   "source": [
    "df = pd.read_csv(r\"C:\\Users\\KIIT\\Desktop\\MachineLearning\\Paper1\\Codes\\datasets_1111_2005_kidney_disease.csv\")"
   ]
  },
  {
   "cell_type": "code",
   "execution_count": 105,
   "metadata": {},
   "outputs": [
    {
     "data": {
      "text/html": [
       "<div>\n",
       "<style scoped>\n",
       "    .dataframe tbody tr th:only-of-type {\n",
       "        vertical-align: middle;\n",
       "    }\n",
       "\n",
       "    .dataframe tbody tr th {\n",
       "        vertical-align: top;\n",
       "    }\n",
       "\n",
       "    .dataframe thead th {\n",
       "        text-align: right;\n",
       "    }\n",
       "</style>\n",
       "<table border=\"1\" class=\"dataframe\">\n",
       "  <thead>\n",
       "    <tr style=\"text-align: right;\">\n",
       "      <th></th>\n",
       "      <th>id</th>\n",
       "      <th>age</th>\n",
       "      <th>bp</th>\n",
       "      <th>sg</th>\n",
       "      <th>al</th>\n",
       "      <th>su</th>\n",
       "      <th>rbc</th>\n",
       "      <th>pc</th>\n",
       "      <th>pcc</th>\n",
       "      <th>ba</th>\n",
       "      <th>...</th>\n",
       "      <th>pcv</th>\n",
       "      <th>wc</th>\n",
       "      <th>rc</th>\n",
       "      <th>htn</th>\n",
       "      <th>dm</th>\n",
       "      <th>cad</th>\n",
       "      <th>appet</th>\n",
       "      <th>pe</th>\n",
       "      <th>ane</th>\n",
       "      <th>classification</th>\n",
       "    </tr>\n",
       "  </thead>\n",
       "  <tbody>\n",
       "    <tr>\n",
       "      <th>0</th>\n",
       "      <td>0</td>\n",
       "      <td>48.0</td>\n",
       "      <td>80.0</td>\n",
       "      <td>1.020</td>\n",
       "      <td>1.0</td>\n",
       "      <td>0.0</td>\n",
       "      <td>NaN</td>\n",
       "      <td>normal</td>\n",
       "      <td>notpresent</td>\n",
       "      <td>notpresent</td>\n",
       "      <td>...</td>\n",
       "      <td>44.0</td>\n",
       "      <td>7800.0</td>\n",
       "      <td>5.2</td>\n",
       "      <td>yes</td>\n",
       "      <td>yes</td>\n",
       "      <td>no</td>\n",
       "      <td>good</td>\n",
       "      <td>no</td>\n",
       "      <td>no</td>\n",
       "      <td>ckd</td>\n",
       "    </tr>\n",
       "    <tr>\n",
       "      <th>1</th>\n",
       "      <td>1</td>\n",
       "      <td>7.0</td>\n",
       "      <td>50.0</td>\n",
       "      <td>1.020</td>\n",
       "      <td>4.0</td>\n",
       "      <td>0.0</td>\n",
       "      <td>NaN</td>\n",
       "      <td>normal</td>\n",
       "      <td>notpresent</td>\n",
       "      <td>notpresent</td>\n",
       "      <td>...</td>\n",
       "      <td>38.0</td>\n",
       "      <td>6000.0</td>\n",
       "      <td>NaN</td>\n",
       "      <td>no</td>\n",
       "      <td>no</td>\n",
       "      <td>no</td>\n",
       "      <td>good</td>\n",
       "      <td>no</td>\n",
       "      <td>no</td>\n",
       "      <td>ckd</td>\n",
       "    </tr>\n",
       "    <tr>\n",
       "      <th>2</th>\n",
       "      <td>2</td>\n",
       "      <td>62.0</td>\n",
       "      <td>80.0</td>\n",
       "      <td>1.010</td>\n",
       "      <td>2.0</td>\n",
       "      <td>3.0</td>\n",
       "      <td>normal</td>\n",
       "      <td>normal</td>\n",
       "      <td>notpresent</td>\n",
       "      <td>notpresent</td>\n",
       "      <td>...</td>\n",
       "      <td>31.0</td>\n",
       "      <td>7500.0</td>\n",
       "      <td>NaN</td>\n",
       "      <td>no</td>\n",
       "      <td>yes</td>\n",
       "      <td>no</td>\n",
       "      <td>poor</td>\n",
       "      <td>no</td>\n",
       "      <td>yes</td>\n",
       "      <td>ckd</td>\n",
       "    </tr>\n",
       "    <tr>\n",
       "      <th>3</th>\n",
       "      <td>3</td>\n",
       "      <td>48.0</td>\n",
       "      <td>70.0</td>\n",
       "      <td>1.005</td>\n",
       "      <td>4.0</td>\n",
       "      <td>0.0</td>\n",
       "      <td>normal</td>\n",
       "      <td>abnormal</td>\n",
       "      <td>present</td>\n",
       "      <td>notpresent</td>\n",
       "      <td>...</td>\n",
       "      <td>32.0</td>\n",
       "      <td>6700.0</td>\n",
       "      <td>3.9</td>\n",
       "      <td>yes</td>\n",
       "      <td>no</td>\n",
       "      <td>no</td>\n",
       "      <td>poor</td>\n",
       "      <td>yes</td>\n",
       "      <td>yes</td>\n",
       "      <td>ckd</td>\n",
       "    </tr>\n",
       "    <tr>\n",
       "      <th>4</th>\n",
       "      <td>4</td>\n",
       "      <td>51.0</td>\n",
       "      <td>80.0</td>\n",
       "      <td>1.010</td>\n",
       "      <td>2.0</td>\n",
       "      <td>0.0</td>\n",
       "      <td>normal</td>\n",
       "      <td>normal</td>\n",
       "      <td>notpresent</td>\n",
       "      <td>notpresent</td>\n",
       "      <td>...</td>\n",
       "      <td>35.0</td>\n",
       "      <td>7300.0</td>\n",
       "      <td>4.6</td>\n",
       "      <td>no</td>\n",
       "      <td>no</td>\n",
       "      <td>no</td>\n",
       "      <td>good</td>\n",
       "      <td>no</td>\n",
       "      <td>no</td>\n",
       "      <td>ckd</td>\n",
       "    </tr>\n",
       "  </tbody>\n",
       "</table>\n",
       "<p>5 rows × 26 columns</p>\n",
       "</div>"
      ],
      "text/plain": [
       "   id   age    bp     sg   al   su     rbc        pc         pcc          ba  \\\n",
       "0   0  48.0  80.0  1.020  1.0  0.0     NaN    normal  notpresent  notpresent   \n",
       "1   1   7.0  50.0  1.020  4.0  0.0     NaN    normal  notpresent  notpresent   \n",
       "2   2  62.0  80.0  1.010  2.0  3.0  normal    normal  notpresent  notpresent   \n",
       "3   3  48.0  70.0  1.005  4.0  0.0  normal  abnormal     present  notpresent   \n",
       "4   4  51.0  80.0  1.010  2.0  0.0  normal    normal  notpresent  notpresent   \n",
       "\n",
       "   ...   pcv      wc   rc  htn   dm  cad  appet   pe  ane classification  \n",
       "0  ...  44.0  7800.0  5.2  yes  yes   no   good   no   no            ckd  \n",
       "1  ...  38.0  6000.0  NaN   no   no   no   good   no   no            ckd  \n",
       "2  ...  31.0  7500.0  NaN   no  yes   no   poor   no  yes            ckd  \n",
       "3  ...  32.0  6700.0  3.9  yes   no   no   poor  yes  yes            ckd  \n",
       "4  ...  35.0  7300.0  4.6   no   no   no   good   no   no            ckd  \n",
       "\n",
       "[5 rows x 26 columns]"
      ]
     },
     "execution_count": 105,
     "metadata": {},
     "output_type": "execute_result"
    }
   ],
   "source": [
    "df.head()"
   ]
  },
  {
   "cell_type": "code",
   "execution_count": 106,
   "metadata": {},
   "outputs": [
    {
     "data": {
      "text/plain": [
       "id                  0\n",
       "age                 9\n",
       "bp                 12\n",
       "sg                 47\n",
       "al                 46\n",
       "su                 49\n",
       "rbc               152\n",
       "pc                 65\n",
       "pcc                 4\n",
       "ba                  4\n",
       "bgr                44\n",
       "bu                 19\n",
       "sc                 17\n",
       "sod                87\n",
       "pot                88\n",
       "hemo               52\n",
       "pcv                71\n",
       "wc                106\n",
       "rc                131\n",
       "htn                 2\n",
       "dm                  2\n",
       "cad                 2\n",
       "appet               1\n",
       "pe                  1\n",
       "ane                 1\n",
       "classification      0\n",
       "dtype: int64"
      ]
     },
     "execution_count": 106,
     "metadata": {},
     "output_type": "execute_result"
    }
   ],
   "source": [
    "df.isnull().sum()"
   ]
  },
  {
   "cell_type": "code",
   "execution_count": 107,
   "metadata": {},
   "outputs": [],
   "source": [
    "#Filling missing data with mean value\n",
    "df[\"bgr\"]= df[\"bgr\"].fillna(np.mean(df[\"bgr\"]))\n",
    "df[\"bu\"]= df[\"bu\"].fillna(np.mean(df[\"bu\"]))\n",
    "df[\"sc\"]= df[\"sc\"].fillna(np.mean(df[\"sc\"]))\n",
    "df[\"sod\"]= df[\"sod\"].fillna(np.mean(df[\"sod\"]))\n",
    "df[\"pot\"]= df[\"pot\"].fillna(np.mean(df[\"pot\"]))\n",
    "df[\"hemo\"]= df[\"hemo\"].fillna(np.mean(df[\"hemo\"]))\n",
    "df[\"pcv\"]= df[\"pcv\"].fillna(np.mean(df[\"pcv\"]))\n",
    "df[\"wc\"]= df[\"wc\"].fillna(np.mean(df[\"wc\"]))\n",
    "df[\"rc\"]= df[\"rc\"].fillna(np.mean(df[\"rc\"]))"
   ]
  },
  {
   "cell_type": "code",
   "execution_count": 108,
   "metadata": {},
   "outputs": [
    {
     "data": {
      "text/plain": [
       "id                  0\n",
       "age                 9\n",
       "bp                 12\n",
       "sg                 47\n",
       "al                 46\n",
       "su                 49\n",
       "rbc               152\n",
       "pc                 65\n",
       "pcc                 4\n",
       "ba                  4\n",
       "bgr                 0\n",
       "bu                  0\n",
       "sc                  0\n",
       "sod                 0\n",
       "pot                 0\n",
       "hemo                0\n",
       "pcv                 0\n",
       "wc                  0\n",
       "rc                  0\n",
       "htn                 2\n",
       "dm                  2\n",
       "cad                 2\n",
       "appet               1\n",
       "pe                  1\n",
       "ane                 1\n",
       "classification      0\n",
       "dtype: int64"
      ]
     },
     "execution_count": 108,
     "metadata": {},
     "output_type": "execute_result"
    }
   ],
   "source": [
    "df.isnull().sum()"
   ]
  },
  {
   "cell_type": "code",
   "execution_count": 109,
   "metadata": {},
   "outputs": [],
   "source": [
    "#Assigned the value 0 and 1 to the nominal features\n",
    "#df['rbc'] = df.rbc.replace(['normal','abnormal'], ['1', '0'])\n",
    "df[\"rbc\"] = [1 if i == \"normal\" else 0 for i in df[\"rbc\"]]\n",
    "#df['pc'] = df.pc.replace(['normal','abnormal'], ['1', '0'])\n",
    "df[\"pc\"] = [1 if i == \"normal\" else 0 for i in df[\"pc\"]]\n",
    "#df['pcc'] = df.pcc.replace(['present','notpresent'], ['1', '0'])\n",
    "df[\"pcc\"] = [1 if i == \"present\" else 0 for i in df[\"pcc\"]]\n",
    "#df['ba'] = df.ba.replace(['present','notpresent'], ['1', '0'])\n",
    "df[\"ba\"] = [1 if i == \"present\" else 0 for i in df[\"ba\"]]\n",
    "#df['htn'] = df.htn.replace(['yes','no'], ['1', '0'])\n",
    "df[\"htn\"] = [1 if i == \"yes\" else 0 for i in df[\"htn\"]]\n",
    "#df['dm'] = df.dm.replace(['yes','no'], ['1', '0'])\n",
    "df[\"dm\"] = [1 if i == \"yes\" else 0 for i in df[\"dm\"]]\n",
    "#df['cad'] = df.cad.replace(['yes','no'], ['1', '0'])\n",
    "df[\"cad\"] = [1 if i == \"yes\" else 0 for i in df[\"cad\"]]\n",
    "#df['appet'] = df.appet.replace(['good','poor'], ['1', '0'])\n",
    "df[\"appet\"] = [1 if i == \"good\" else 0 for i in df[\"appet\"]]\n",
    "#df['pe'] = df.pe.replace(['yes','no'], ['1', '0'])\n",
    "df[\"pe\"] = [1 if i == \"yes\" else 0 for i in df[\"pe\"]]\n",
    "#df['ane'] = df.ane.replace(['yes','no'], ['1', '0'])\n",
    "df[\"ane\"] = [1 if i == \"yes\" else 0 for i in df[\"ane\"]]\n",
    "df[\"classification\"] = [1 if i == \"ckd\" else 0 for i in df[\"classification\"]]"
   ]
  },
  {
   "cell_type": "code",
   "execution_count": 110,
   "metadata": {},
   "outputs": [
    {
     "data": {
      "text/html": [
       "<div>\n",
       "<style scoped>\n",
       "    .dataframe tbody tr th:only-of-type {\n",
       "        vertical-align: middle;\n",
       "    }\n",
       "\n",
       "    .dataframe tbody tr th {\n",
       "        vertical-align: top;\n",
       "    }\n",
       "\n",
       "    .dataframe thead th {\n",
       "        text-align: right;\n",
       "    }\n",
       "</style>\n",
       "<table border=\"1\" class=\"dataframe\">\n",
       "  <thead>\n",
       "    <tr style=\"text-align: right;\">\n",
       "      <th></th>\n",
       "      <th>id</th>\n",
       "      <th>age</th>\n",
       "      <th>bp</th>\n",
       "      <th>sg</th>\n",
       "      <th>al</th>\n",
       "      <th>su</th>\n",
       "      <th>rbc</th>\n",
       "      <th>pc</th>\n",
       "      <th>pcc</th>\n",
       "      <th>ba</th>\n",
       "      <th>...</th>\n",
       "      <th>pcv</th>\n",
       "      <th>wc</th>\n",
       "      <th>rc</th>\n",
       "      <th>htn</th>\n",
       "      <th>dm</th>\n",
       "      <th>cad</th>\n",
       "      <th>appet</th>\n",
       "      <th>pe</th>\n",
       "      <th>ane</th>\n",
       "      <th>classification</th>\n",
       "    </tr>\n",
       "  </thead>\n",
       "  <tbody>\n",
       "    <tr>\n",
       "      <th>0</th>\n",
       "      <td>0</td>\n",
       "      <td>48.0</td>\n",
       "      <td>80.0</td>\n",
       "      <td>1.020</td>\n",
       "      <td>1.0</td>\n",
       "      <td>0.0</td>\n",
       "      <td>0</td>\n",
       "      <td>1</td>\n",
       "      <td>0</td>\n",
       "      <td>0</td>\n",
       "      <td>...</td>\n",
       "      <td>44.0</td>\n",
       "      <td>7800.0</td>\n",
       "      <td>5.200000</td>\n",
       "      <td>1</td>\n",
       "      <td>1</td>\n",
       "      <td>0</td>\n",
       "      <td>1</td>\n",
       "      <td>0</td>\n",
       "      <td>0</td>\n",
       "      <td>1</td>\n",
       "    </tr>\n",
       "    <tr>\n",
       "      <th>1</th>\n",
       "      <td>1</td>\n",
       "      <td>7.0</td>\n",
       "      <td>50.0</td>\n",
       "      <td>1.020</td>\n",
       "      <td>4.0</td>\n",
       "      <td>0.0</td>\n",
       "      <td>0</td>\n",
       "      <td>1</td>\n",
       "      <td>0</td>\n",
       "      <td>0</td>\n",
       "      <td>...</td>\n",
       "      <td>38.0</td>\n",
       "      <td>6000.0</td>\n",
       "      <td>4.707435</td>\n",
       "      <td>0</td>\n",
       "      <td>0</td>\n",
       "      <td>0</td>\n",
       "      <td>1</td>\n",
       "      <td>0</td>\n",
       "      <td>0</td>\n",
       "      <td>1</td>\n",
       "    </tr>\n",
       "    <tr>\n",
       "      <th>2</th>\n",
       "      <td>2</td>\n",
       "      <td>62.0</td>\n",
       "      <td>80.0</td>\n",
       "      <td>1.010</td>\n",
       "      <td>2.0</td>\n",
       "      <td>3.0</td>\n",
       "      <td>1</td>\n",
       "      <td>1</td>\n",
       "      <td>0</td>\n",
       "      <td>0</td>\n",
       "      <td>...</td>\n",
       "      <td>31.0</td>\n",
       "      <td>7500.0</td>\n",
       "      <td>4.707435</td>\n",
       "      <td>0</td>\n",
       "      <td>1</td>\n",
       "      <td>0</td>\n",
       "      <td>0</td>\n",
       "      <td>0</td>\n",
       "      <td>1</td>\n",
       "      <td>1</td>\n",
       "    </tr>\n",
       "    <tr>\n",
       "      <th>3</th>\n",
       "      <td>3</td>\n",
       "      <td>48.0</td>\n",
       "      <td>70.0</td>\n",
       "      <td>1.005</td>\n",
       "      <td>4.0</td>\n",
       "      <td>0.0</td>\n",
       "      <td>1</td>\n",
       "      <td>0</td>\n",
       "      <td>1</td>\n",
       "      <td>0</td>\n",
       "      <td>...</td>\n",
       "      <td>32.0</td>\n",
       "      <td>6700.0</td>\n",
       "      <td>3.900000</td>\n",
       "      <td>1</td>\n",
       "      <td>0</td>\n",
       "      <td>0</td>\n",
       "      <td>0</td>\n",
       "      <td>1</td>\n",
       "      <td>1</td>\n",
       "      <td>1</td>\n",
       "    </tr>\n",
       "    <tr>\n",
       "      <th>4</th>\n",
       "      <td>4</td>\n",
       "      <td>51.0</td>\n",
       "      <td>80.0</td>\n",
       "      <td>1.010</td>\n",
       "      <td>2.0</td>\n",
       "      <td>0.0</td>\n",
       "      <td>1</td>\n",
       "      <td>1</td>\n",
       "      <td>0</td>\n",
       "      <td>0</td>\n",
       "      <td>...</td>\n",
       "      <td>35.0</td>\n",
       "      <td>7300.0</td>\n",
       "      <td>4.600000</td>\n",
       "      <td>0</td>\n",
       "      <td>0</td>\n",
       "      <td>0</td>\n",
       "      <td>1</td>\n",
       "      <td>0</td>\n",
       "      <td>0</td>\n",
       "      <td>1</td>\n",
       "    </tr>\n",
       "  </tbody>\n",
       "</table>\n",
       "<p>5 rows × 26 columns</p>\n",
       "</div>"
      ],
      "text/plain": [
       "   id   age    bp     sg   al   su  rbc  pc  pcc  ba  ...   pcv      wc  \\\n",
       "0   0  48.0  80.0  1.020  1.0  0.0    0   1    0   0  ...  44.0  7800.0   \n",
       "1   1   7.0  50.0  1.020  4.0  0.0    0   1    0   0  ...  38.0  6000.0   \n",
       "2   2  62.0  80.0  1.010  2.0  3.0    1   1    0   0  ...  31.0  7500.0   \n",
       "3   3  48.0  70.0  1.005  4.0  0.0    1   0    1   0  ...  32.0  6700.0   \n",
       "4   4  51.0  80.0  1.010  2.0  0.0    1   1    0   0  ...  35.0  7300.0   \n",
       "\n",
       "         rc  htn  dm  cad  appet  pe  ane  classification  \n",
       "0  5.200000    1   1    0      1   0    0               1  \n",
       "1  4.707435    0   0    0      1   0    0               1  \n",
       "2  4.707435    0   1    0      0   0    1               1  \n",
       "3  3.900000    1   0    0      0   1    1               1  \n",
       "4  4.600000    0   0    0      1   0    0               1  \n",
       "\n",
       "[5 rows x 26 columns]"
      ]
     },
     "execution_count": 110,
     "metadata": {},
     "output_type": "execute_result"
    }
   ],
   "source": [
    "df.head()"
   ]
  },
  {
   "cell_type": "code",
   "execution_count": 111,
   "metadata": {},
   "outputs": [
    {
     "name": "stdout",
     "output_type": "stream",
     "text": [
      "Rows = 400\n"
     ]
    }
   ],
   "source": [
    "total_rows = len (df.axes[0])\n",
    "print(\"Rows = \" + str(total_rows))"
   ]
  },
  {
   "cell_type": "code",
   "execution_count": 112,
   "metadata": {},
   "outputs": [],
   "source": [
    "#Dropping all other rows with NaN values\n",
    "df = df.dropna(axis=0)"
   ]
  },
  {
   "cell_type": "code",
   "execution_count": 113,
   "metadata": {},
   "outputs": [
    {
     "name": "stdout",
     "output_type": "stream",
     "text": [
      "Rows = 333\n"
     ]
    }
   ],
   "source": [
    "total_rows = len (df.axes[0])\n",
    "print(\"Rows = \" + str(total_rows))"
   ]
  },
  {
   "cell_type": "code",
   "execution_count": 114,
   "metadata": {},
   "outputs": [
    {
     "data": {
      "text/plain": [
       "id                  int64\n",
       "age               float64\n",
       "bp                float64\n",
       "sg                float64\n",
       "al                float64\n",
       "su                float64\n",
       "rbc                 int64\n",
       "pc                  int64\n",
       "pcc                 int64\n",
       "ba                  int64\n",
       "bgr               float64\n",
       "bu                float64\n",
       "sc                float64\n",
       "sod               float64\n",
       "pot               float64\n",
       "hemo              float64\n",
       "pcv               float64\n",
       "wc                float64\n",
       "rc                float64\n",
       "htn                 int64\n",
       "dm                  int64\n",
       "cad                 int64\n",
       "appet               int64\n",
       "pe                  int64\n",
       "ane                 int64\n",
       "classification      int64\n",
       "dtype: object"
      ]
     },
     "execution_count": 114,
     "metadata": {},
     "output_type": "execute_result"
    }
   ],
   "source": [
    "df.dtypes"
   ]
  },
  {
   "cell_type": "code",
   "execution_count": 115,
   "metadata": {},
   "outputs": [
    {
     "data": {
      "text/html": [
       "<div>\n",
       "<style scoped>\n",
       "    .dataframe tbody tr th:only-of-type {\n",
       "        vertical-align: middle;\n",
       "    }\n",
       "\n",
       "    .dataframe tbody tr th {\n",
       "        vertical-align: top;\n",
       "    }\n",
       "\n",
       "    .dataframe thead th {\n",
       "        text-align: right;\n",
       "    }\n",
       "</style>\n",
       "<table border=\"1\" class=\"dataframe\">\n",
       "  <thead>\n",
       "    <tr style=\"text-align: right;\">\n",
       "      <th></th>\n",
       "      <th>id</th>\n",
       "      <th>age</th>\n",
       "      <th>bp</th>\n",
       "      <th>sg</th>\n",
       "      <th>al</th>\n",
       "      <th>su</th>\n",
       "      <th>rbc</th>\n",
       "      <th>pc</th>\n",
       "      <th>pcc</th>\n",
       "      <th>ba</th>\n",
       "      <th>...</th>\n",
       "      <th>pcv</th>\n",
       "      <th>wc</th>\n",
       "      <th>rc</th>\n",
       "      <th>htn</th>\n",
       "      <th>dm</th>\n",
       "      <th>cad</th>\n",
       "      <th>appet</th>\n",
       "      <th>pe</th>\n",
       "      <th>ane</th>\n",
       "      <th>classification</th>\n",
       "    </tr>\n",
       "  </thead>\n",
       "  <tbody>\n",
       "    <tr>\n",
       "      <th>0</th>\n",
       "      <td>0</td>\n",
       "      <td>48.0</td>\n",
       "      <td>80.0</td>\n",
       "      <td>1.020</td>\n",
       "      <td>1.0</td>\n",
       "      <td>0.0</td>\n",
       "      <td>0</td>\n",
       "      <td>1</td>\n",
       "      <td>0</td>\n",
       "      <td>0</td>\n",
       "      <td>...</td>\n",
       "      <td>44.0</td>\n",
       "      <td>7800.0</td>\n",
       "      <td>5.200000</td>\n",
       "      <td>1</td>\n",
       "      <td>1</td>\n",
       "      <td>0</td>\n",
       "      <td>1</td>\n",
       "      <td>0</td>\n",
       "      <td>0</td>\n",
       "      <td>1</td>\n",
       "    </tr>\n",
       "    <tr>\n",
       "      <th>1</th>\n",
       "      <td>1</td>\n",
       "      <td>7.0</td>\n",
       "      <td>50.0</td>\n",
       "      <td>1.020</td>\n",
       "      <td>4.0</td>\n",
       "      <td>0.0</td>\n",
       "      <td>0</td>\n",
       "      <td>1</td>\n",
       "      <td>0</td>\n",
       "      <td>0</td>\n",
       "      <td>...</td>\n",
       "      <td>38.0</td>\n",
       "      <td>6000.0</td>\n",
       "      <td>4.707435</td>\n",
       "      <td>0</td>\n",
       "      <td>0</td>\n",
       "      <td>0</td>\n",
       "      <td>1</td>\n",
       "      <td>0</td>\n",
       "      <td>0</td>\n",
       "      <td>1</td>\n",
       "    </tr>\n",
       "    <tr>\n",
       "      <th>2</th>\n",
       "      <td>2</td>\n",
       "      <td>62.0</td>\n",
       "      <td>80.0</td>\n",
       "      <td>1.010</td>\n",
       "      <td>2.0</td>\n",
       "      <td>3.0</td>\n",
       "      <td>1</td>\n",
       "      <td>1</td>\n",
       "      <td>0</td>\n",
       "      <td>0</td>\n",
       "      <td>...</td>\n",
       "      <td>31.0</td>\n",
       "      <td>7500.0</td>\n",
       "      <td>4.707435</td>\n",
       "      <td>0</td>\n",
       "      <td>1</td>\n",
       "      <td>0</td>\n",
       "      <td>0</td>\n",
       "      <td>0</td>\n",
       "      <td>1</td>\n",
       "      <td>1</td>\n",
       "    </tr>\n",
       "    <tr>\n",
       "      <th>3</th>\n",
       "      <td>3</td>\n",
       "      <td>48.0</td>\n",
       "      <td>70.0</td>\n",
       "      <td>1.005</td>\n",
       "      <td>4.0</td>\n",
       "      <td>0.0</td>\n",
       "      <td>1</td>\n",
       "      <td>0</td>\n",
       "      <td>1</td>\n",
       "      <td>0</td>\n",
       "      <td>...</td>\n",
       "      <td>32.0</td>\n",
       "      <td>6700.0</td>\n",
       "      <td>3.900000</td>\n",
       "      <td>1</td>\n",
       "      <td>0</td>\n",
       "      <td>0</td>\n",
       "      <td>0</td>\n",
       "      <td>1</td>\n",
       "      <td>1</td>\n",
       "      <td>1</td>\n",
       "    </tr>\n",
       "    <tr>\n",
       "      <th>4</th>\n",
       "      <td>4</td>\n",
       "      <td>51.0</td>\n",
       "      <td>80.0</td>\n",
       "      <td>1.010</td>\n",
       "      <td>2.0</td>\n",
       "      <td>0.0</td>\n",
       "      <td>1</td>\n",
       "      <td>1</td>\n",
       "      <td>0</td>\n",
       "      <td>0</td>\n",
       "      <td>...</td>\n",
       "      <td>35.0</td>\n",
       "      <td>7300.0</td>\n",
       "      <td>4.600000</td>\n",
       "      <td>0</td>\n",
       "      <td>0</td>\n",
       "      <td>0</td>\n",
       "      <td>1</td>\n",
       "      <td>0</td>\n",
       "      <td>0</td>\n",
       "      <td>1</td>\n",
       "    </tr>\n",
       "  </tbody>\n",
       "</table>\n",
       "<p>5 rows × 26 columns</p>\n",
       "</div>"
      ],
      "text/plain": [
       "   id   age    bp     sg   al   su  rbc  pc  pcc  ba  ...   pcv      wc  \\\n",
       "0   0  48.0  80.0  1.020  1.0  0.0    0   1    0   0  ...  44.0  7800.0   \n",
       "1   1   7.0  50.0  1.020  4.0  0.0    0   1    0   0  ...  38.0  6000.0   \n",
       "2   2  62.0  80.0  1.010  2.0  3.0    1   1    0   0  ...  31.0  7500.0   \n",
       "3   3  48.0  70.0  1.005  4.0  0.0    1   0    1   0  ...  32.0  6700.0   \n",
       "4   4  51.0  80.0  1.010  2.0  0.0    1   1    0   0  ...  35.0  7300.0   \n",
       "\n",
       "         rc  htn  dm  cad  appet  pe  ane  classification  \n",
       "0  5.200000    1   1    0      1   0    0               1  \n",
       "1  4.707435    0   0    0      1   0    0               1  \n",
       "2  4.707435    0   1    0      0   0    1               1  \n",
       "3  3.900000    1   0    0      0   1    1               1  \n",
       "4  4.600000    0   0    0      1   0    0               1  \n",
       "\n",
       "[5 rows x 26 columns]"
      ]
     },
     "execution_count": 115,
     "metadata": {},
     "output_type": "execute_result"
    }
   ],
   "source": [
    "df.head()"
   ]
  },
  {
   "cell_type": "code",
   "execution_count": 116,
   "metadata": {},
   "outputs": [
    {
     "data": {
      "text/plain": [
       "id                  int64\n",
       "age               float64\n",
       "bp                float64\n",
       "sg                float64\n",
       "al                float64\n",
       "su                float64\n",
       "rbc                 int64\n",
       "pc                  int64\n",
       "pcc                 int64\n",
       "ba                  int64\n",
       "bgr               float64\n",
       "bu                float64\n",
       "sc                float64\n",
       "sod               float64\n",
       "pot               float64\n",
       "hemo              float64\n",
       "pcv               float64\n",
       "wc                float64\n",
       "rc                float64\n",
       "htn                 int64\n",
       "dm                  int64\n",
       "cad                 int64\n",
       "appet               int64\n",
       "pe                  int64\n",
       "ane                 int64\n",
       "classification      int64\n",
       "dtype: object"
      ]
     },
     "execution_count": 116,
     "metadata": {},
     "output_type": "execute_result"
    }
   ],
   "source": [
    "df.dtypes"
   ]
  },
  {
   "cell_type": "code",
   "execution_count": 117,
   "metadata": {},
   "outputs": [
    {
     "data": {
      "text/plain": [
       "(333, 26)"
      ]
     },
     "execution_count": 117,
     "metadata": {},
     "output_type": "execute_result"
    }
   ],
   "source": [
    "df.shape"
   ]
  },
  {
   "cell_type": "code",
   "execution_count": 118,
   "metadata": {},
   "outputs": [],
   "source": [
    "X = df.iloc[:, 1:25].values\n",
    "y = df.iloc[:, 25].values"
   ]
  },
  {
   "cell_type": "code",
   "execution_count": 119,
   "metadata": {},
   "outputs": [
    {
     "data": {
      "text/plain": [
       "array([[48.   , 80.   ,  1.02 , ...,  1.   ,  0.   ,  0.   ],\n",
       "       [ 7.   , 50.   ,  1.02 , ...,  1.   ,  0.   ,  0.   ],\n",
       "       [62.   , 80.   ,  1.01 , ...,  0.   ,  0.   ,  1.   ],\n",
       "       ...,\n",
       "       [12.   , 80.   ,  1.02 , ...,  1.   ,  0.   ,  0.   ],\n",
       "       [17.   , 60.   ,  1.025, ...,  1.   ,  0.   ,  0.   ],\n",
       "       [58.   , 80.   ,  1.025, ...,  1.   ,  0.   ,  0.   ]])"
      ]
     },
     "execution_count": 119,
     "metadata": {},
     "output_type": "execute_result"
    }
   ],
   "source": [
    "X"
   ]
  },
  {
   "cell_type": "code",
   "execution_count": 120,
   "metadata": {},
   "outputs": [
    {
     "data": {
      "text/plain": [
       "array([1, 1, 1, 1, 1, 1, 1, 1, 1, 1, 1, 1, 1, 1, 1, 1, 1, 1, 1, 1, 1, 1,\n",
       "       1, 1, 1, 1, 1, 1, 1, 1, 1, 1, 1, 1, 1, 1, 1, 1, 1, 1, 1, 1, 1, 1,\n",
       "       1, 1, 1, 1, 1, 1, 1, 1, 1, 1, 1, 1, 1, 1, 1, 1, 1, 1, 1, 1, 1, 1,\n",
       "       1, 1, 1, 1, 1, 1, 1, 1, 1, 1, 1, 1, 1, 1, 1, 1, 1, 1, 1, 1, 1, 1,\n",
       "       1, 1, 1, 1, 1, 1, 1, 1, 1, 1, 1, 1, 1, 1, 1, 1, 1, 1, 1, 1, 1, 1,\n",
       "       1, 1, 1, 1, 1, 1, 1, 1, 1, 1, 1, 1, 1, 1, 1, 1, 1, 1, 1, 1, 1, 1,\n",
       "       1, 1, 1, 1, 1, 1, 1, 1, 1, 1, 1, 1, 1, 1, 1, 1, 1, 1, 1, 1, 1, 1,\n",
       "       1, 1, 1, 1, 1, 1, 1, 1, 1, 1, 1, 1, 1, 1, 1, 1, 1, 1, 1, 1, 0, 1,\n",
       "       1, 1, 1, 1, 1, 1, 1, 1, 1, 1, 1, 1, 1, 1, 0, 0, 0, 0, 0, 0, 0, 0,\n",
       "       0, 0, 0, 0, 0, 0, 0, 0, 0, 0, 0, 0, 0, 0, 0, 0, 0, 0, 0, 0, 0, 0,\n",
       "       0, 0, 0, 0, 0, 0, 0, 0, 0, 0, 0, 0, 0, 0, 0, 0, 0, 0, 0, 0, 0, 0,\n",
       "       0, 0, 0, 0, 0, 0, 0, 0, 0, 0, 0, 0, 0, 0, 0, 0, 0, 0, 0, 0, 0, 0,\n",
       "       0, 0, 0, 0, 0, 0, 0, 0, 0, 0, 0, 0, 0, 0, 0, 0, 0, 0, 0, 0, 0, 0,\n",
       "       0, 0, 0, 0, 0, 0, 0, 0, 0, 0, 0, 0, 0, 0, 0, 0, 0, 0, 0, 0, 0, 0,\n",
       "       0, 0, 0, 0, 0, 0, 0, 0, 0, 0, 0, 0, 0, 0, 0, 0, 0, 0, 0, 0, 0, 0,\n",
       "       0, 0, 0], dtype=int64)"
      ]
     },
     "execution_count": 120,
     "metadata": {},
     "output_type": "execute_result"
    }
   ],
   "source": [
    "y"
   ]
  },
  {
   "cell_type": "code",
   "execution_count": 121,
   "metadata": {},
   "outputs": [],
   "source": [
    "from sklearn.model_selection import train_test_split\n",
    "X_train, X_test, y_train, y_test = train_test_split(X, y, test_size = 0.2)"
   ]
  },
  {
   "cell_type": "code",
   "execution_count": 122,
   "metadata": {},
   "outputs": [],
   "source": [
    "#Feature Scaling\n",
    "from sklearn.preprocessing import StandardScaler\n",
    "sc = StandardScaler()\n",
    "X_train = sc.fit_transform(X_train)\n",
    "X_test = sc.transform(X_test)"
   ]
  },
  {
   "cell_type": "code",
   "execution_count": 123,
   "metadata": {},
   "outputs": [
    {
     "name": "stdout",
     "output_type": "stream",
     "text": [
      "--- 0.02422928810119629 seconds ---\n"
     ]
    }
   ],
   "source": [
    "##### K - NN\n",
    "# Fitting K-NN to the Training set\n",
    "import time \n",
    "start_time = time.time()\n",
    "\n",
    "from sklearn.neighbors import KNeighborsClassifier\n",
    "classifier_knn = KNeighborsClassifier(n_neighbors = 5)\n",
    "classifier_knn.fit(X_train, y_train)\n",
    "y_pred_knn=classifier_knn.predict(X_test)\n",
    "from sklearn.metrics import accuracy_score\n",
    "accuracy_score(y_test, y_pred_knn)\n",
    "print(\"--- %s seconds ---\" % (time.time() - start_time))"
   ]
  },
  {
   "cell_type": "code",
   "execution_count": 124,
   "metadata": {},
   "outputs": [
    {
     "name": "stdout",
     "output_type": "stream",
     "text": [
      "0.9876543209876543\n",
      "1.0\n",
      "0.975609756097561\n"
     ]
    },
    {
     "data": {
      "text/plain": [
       "array([[26,  0],\n",
       "       [ 1, 40]], dtype=int64)"
      ]
     },
     "execution_count": 124,
     "metadata": {},
     "output_type": "execute_result"
    }
   ],
   "source": [
    "from sklearn.metrics import accuracy_score, f1_score, precision_score, recall_score, classification_report, confusion_matrix\n",
    "f1_knn = f1_score(y_test, y_pred_knn)\n",
    "prec_knn = precision_score(y_test, y_pred_knn)\n",
    "recall_knn = recall_score(y_test, y_pred_knn)\n",
    "print(f1_knn)\n",
    "print(prec_knn)\n",
    "print(recall_knn)\n",
    "#f1_score=0.9565, precision= 0.9705 ,recall=0.9428\n",
    "#f1_score=0.9846, precision= 1.0 ,recall=0.9696\n",
    "#f1_score=0.9736, precision= 1.0 ,recall=0.9487\n",
    "#1,1,1\n",
    "\n",
    "\n",
    "#Making confusion matrix\n",
    "from sklearn.metrics import confusion_matrix\n",
    "cm_knn=confusion_matrix(y_test, y_pred_knn)\n",
    "cm_knn"
   ]
  },
  {
   "cell_type": "code",
   "execution_count": 125,
   "metadata": {},
   "outputs": [
    {
     "name": "stdout",
     "output_type": "stream",
     "text": [
      "Accuracy ---> 0.9850746268656716\n",
      "Missclassification ---> 0.014925373134328401\n",
      "Sensitivity ---> 0.9629629629629629\n",
      "Specificity ---> 1.0\n",
      "Precision ---> 1.0\n",
      "F1_Score ---> 0.9811320754716981\n",
      "MCC ---> 0.9692657331337372\n"
     ]
    }
   ],
   "source": [
    "TP_knn = cm_knn[0][0]\n",
    "FP_knn = cm_knn[0][1]\n",
    "FN_knn = cm_knn[1][0]\n",
    "TN_knn = cm_knn[1][1]\n",
    "\n",
    "# calculate accuracy\n",
    "knn_accuracy = (float (TP_knn+TN_knn) / float(TP_knn + TN_knn + FP_knn + FN_knn))\n",
    "    \n",
    "# calculate mis-classification\n",
    "knn_misclassification = 1- knn_accuracy\n",
    "    \n",
    "# calculate the sensitivity\n",
    "knn_sensitivity = (TP_knn / float(TP_knn + FN_knn))    # calculate the specificity\n",
    "knn_specificity = (TN_knn / float(TN_knn + FP_knn))\n",
    "# calculate precision\n",
    "knn_precision = (TN_knn / float(TN_knn + FP_knn))    # calculate f_1 score\n",
    "knn_f1 = 2 * ((knn_precision * knn_sensitivity) / (knn_precision + knn_sensitivity))\n",
    "\n",
    "# calculate MCC\n",
    "import math\n",
    "knn_x= (TP_knn +FP_knn) * (TP_knn + FN_knn) * (TN_knn + FP_knn) * (TN_knn + FN_knn)\n",
    "knn_mcc = (TP_knn * TN_knn - FP_knn * FN_knn) / float(math.sqrt(knn_x))\n",
    "\n",
    "print(\"Accuracy ---> {0}\".format(knn_accuracy))\n",
    "print(\"Missclassification ---> {0}\".format(knn_misclassification))\n",
    "print(\"Sensitivity ---> {0}\".format(knn_sensitivity))\n",
    "print(\"Specificity ---> {0}\".format(knn_specificity))\n",
    "print(\"Precision ---> {0}\".format(knn_precision))\n",
    "print(\"F1_Score ---> {0}\".format(knn_f1))\n",
    "print(\"MCC ---> {0}\".format(knn_mcc))"
   ]
  },
  {
   "cell_type": "code",
   "execution_count": 126,
   "metadata": {},
   "outputs": [
    {
     "name": "stdout",
     "output_type": "stream",
     "text": [
      "--- 0.013047933578491211 seconds ---\n"
     ]
    }
   ],
   "source": [
    "#Apply PCA to K-NN\n",
    "from sklearn.decomposition import PCA\n",
    "import time \n",
    "start_time = time.time()\n",
    "pca= PCA(n_components=2)\n",
    "X_train_new = pca.fit_transform(X_train)\n",
    "X_test_new=pca.transform(X_test)\n",
    "classifier_knn.fit(X_train_new, y_train)\n",
    "y_pred_knn_new=classifier_knn.predict(X_test_new)\n",
    "accuracy_score(y_test, y_pred_knn_new)\n",
    "print(\"--- %s seconds ---\" % (time.time() - start_time))"
   ]
  },
  {
   "cell_type": "code",
   "execution_count": 127,
   "metadata": {},
   "outputs": [
    {
     "name": "stdout",
     "output_type": "stream",
     "text": [
      "1.0\n",
      "1.0\n",
      "1.0\n"
     ]
    },
    {
     "data": {
      "text/plain": [
       "array([[26,  0],\n",
       "       [ 0, 41]], dtype=int64)"
      ]
     },
     "execution_count": 127,
     "metadata": {},
     "output_type": "execute_result"
    }
   ],
   "source": [
    "from sklearn.metrics import accuracy_score, f1_score, precision_score, recall_score, classification_report, confusion_matrix\n",
    "f1_knn_new = f1_score(y_test, y_pred_knn_new)\n",
    "prec_knn_new = precision_score(y_test, y_pred_knn_new)\n",
    "recall_knn_new = recall_score(y_test, y_pred_knn_new)\n",
    "print(f1_knn_new)\n",
    "print(prec_knn_new)\n",
    "print(recall_knn_new)\n",
    "#f1_score=0.9714, precision= 0.9714 ,recall=0.9714\n",
    "#f1_score=0.9846, precision= 1.0 ,recall=0.9696\n",
    "#f1_score=0.9846, precision= 1.0 ,recall=0.9714\n",
    "\n",
    "\n",
    "#Making confusion matrix\n",
    "from sklearn.metrics import confusion_matrix\n",
    "cm_knn_new=confusion_matrix(y_test, y_pred_knn_new)\n",
    "cm_knn_new"
   ]
  },
  {
   "cell_type": "code",
   "execution_count": 128,
   "metadata": {},
   "outputs": [
    {
     "name": "stdout",
     "output_type": "stream",
     "text": [
      "Accuracy ---> 1.0\n",
      "Missclassification ---> 0.0\n",
      "Sensitivity ---> 1.0\n",
      "Specificity ---> 1.0\n",
      "Precision ---> 1.0\n",
      "F1_Score ---> 1.0\n",
      "MCC ---> 1.0\n"
     ]
    }
   ],
   "source": [
    "TP_knn_new = cm_knn_new[0][0]\n",
    "FP_knn_new = cm_knn_new[0][1]\n",
    "FN_knn_new = cm_knn_new[1][0]\n",
    "TN_knn_new = cm_knn_new[1][1]\n",
    "\n",
    "# calculate accuracy\n",
    "knn_accuracy_new = (float (TP_knn_new+TN_knn_new) / float(TP_knn_new + TN_knn_new + FP_knn_new + FN_knn_new))\n",
    "    \n",
    "# calculate mis-classification\n",
    "knn_misclassification_new = 1- knn_accuracy_new\n",
    "    \n",
    "# calculate the sensitivity\n",
    "knn_sensitivity_new = (TP_knn_new / float(TP_knn_new + FN_knn_new))    # calculate the specificity\n",
    "knn_specificity_new = (TN_knn_new / float(TN_knn_new + FP_knn_new))\n",
    "# calculate precision\n",
    "knn_precision_new = (TN_knn_new / float(TN_knn_new + FP_knn_new))    # calculate f_1 score\n",
    "knn_f1_new = 2 * ((knn_precision_new * knn_sensitivity_new) / (knn_precision_new + knn_sensitivity_new))\n",
    "\n",
    "# calculate MCC\n",
    "import math\n",
    "knn_x_new= (TP_knn_new +FP_knn_new) * (TP_knn_new + FN_knn_new) * (TN_knn_new + FP_knn_new) * (TN_knn_new + FN_knn_new)\n",
    "knn_mcc_new = (TP_knn_new * TN_knn_new - FP_knn_new * FN_knn_new) / float(math.sqrt(knn_x_new))\n",
    "\n",
    "print(\"Accuracy ---> {0}\".format(knn_accuracy_new))\n",
    "print(\"Missclassification ---> {0}\".format(knn_misclassification_new))\n",
    "print(\"Sensitivity ---> {0}\".format(knn_sensitivity_new))\n",
    "print(\"Specificity ---> {0}\".format(knn_specificity_new))\n",
    "print(\"Precision ---> {0}\".format(knn_precision_new))\n",
    "print(\"F1_Score ---> {0}\".format(knn_f1_new))\n",
    "print(\"MCC ---> {0}\".format(knn_mcc_new))"
   ]
  },
  {
   "cell_type": "code",
   "execution_count": 131,
   "metadata": {},
   "outputs": [
    {
     "data": {
      "image/png": "[encoded data removed]",
      "text/plain": [
       "<Figure size 432x288 with 2 Axes>"
      ]
     },
     "metadata": {},
     "output_type": "display_data"
    }
   ],
   "source": [
    "#Making confusion matrix\n",
    "from sklearn.metrics import confusion_matrix\n",
    "import seaborn as sns\n",
    "cm_knn=confusion_matrix(y_test, y_pred_knn_new)\n",
    "\n",
    "df_cm_knn = pd.DataFrame(cm_knn, range(2), range(2))\n",
    "sns.set(font_scale=1.4) #label size\n",
    "sns.heatmap(df_cm_knn, annot=True, annot_kws={\"size\": 16}) #font size\n",
    "\n",
    "\n",
    "plt.show()"
   ]
  },
  {
   "cell_type": "code",
   "execution_count": 132,
   "metadata": {},
   "outputs": [],
   "source": [
    "#print(X_train.shape)\n",
    "#print(X_train_new.shape)"
   ]
  },
  {
   "cell_type": "code",
   "execution_count": 133,
   "metadata": {},
   "outputs": [],
   "source": [
    "#pca.explained_variance_ratio_"
   ]
  },
  {
   "cell_type": "code",
   "execution_count": 134,
   "metadata": {},
   "outputs": [
    {
     "name": "stdout",
     "output_type": "stream",
     "text": [
      "--- 0.010089874267578125 seconds ---\n"
     ]
    },
    {
     "name": "stderr",
     "output_type": "stream",
     "text": [
      "C:\\Users\\KIIT\\Anaconda3\\lib\\site-packages\\sklearn\\linear_model\\logistic.py:432: FutureWarning: Default solver will be changed to 'lbfgs' in 0.22. Specify a solver to silence this warning.\n",
      "  FutureWarning)\n"
     ]
    }
   ],
   "source": [
    "#Logistic Regression\n",
    "from sklearn.linear_model import LogisticRegression\n",
    "import time \n",
    "start_time = time.time()\n",
    "classifier_lr=LogisticRegression()\n",
    "classifier_lr.fit(X_train,y_train)\n",
    "y_pred_lr=classifier_lr.predict(X_test)\n",
    "from sklearn.metrics import accuracy_score\n",
    "accuracy_score(y_test, y_pred_lr)\n",
    "print(\"--- %s seconds ---\" % (time.time() - start_time))"
   ]
  },
  {
   "cell_type": "code",
   "execution_count": 135,
   "metadata": {},
   "outputs": [
    {
     "name": "stdout",
     "output_type": "stream",
     "text": [
      "1.0\n",
      "1.0\n",
      "1.0\n"
     ]
    },
    {
     "data": {
      "text/plain": [
       "array([[26,  0],\n",
       "       [ 0, 41]], dtype=int64)"
      ]
     },
     "execution_count": 135,
     "metadata": {},
     "output_type": "execute_result"
    }
   ],
   "source": [
    "from sklearn.metrics import accuracy_score, f1_score, precision_score, recall_score, classification_report, confusion_matrix\n",
    "f1_lr = f1_score(y_test, y_pred_lr)\n",
    "prec_lr = precision_score(y_test, y_pred_lr)\n",
    "recall_lr = recall_score(y_test, y_pred_lr)\n",
    "print(f1_lr)\n",
    "print(prec_lr)\n",
    "print(recall_lr)\n",
    "#f1_score=0.9859, precision=0.9722  ,recall=1.0\n",
    "#f1_score=1.0, precision=1.0  ,recall= 1.0\n",
    "#f1_score=0.9870, precision=1.0  ,recall= 0.9743\n",
    "\n",
    "\n",
    "#Making confusion matrix\n",
    "from sklearn.metrics import confusion_matrix\n",
    "cm_lr=confusion_matrix(y_test, y_pred_lr)\n",
    "cm_lr"
   ]
  },
  {
   "cell_type": "code",
   "execution_count": 136,
   "metadata": {},
   "outputs": [
    {
     "name": "stdout",
     "output_type": "stream",
     "text": [
      "Accuracy ---> 1.0\n",
      "Missclassification ---> 0.0\n",
      "Sensitivity ---> 1.0\n",
      "Specificity ---> 1.0\n",
      "Precision ---> 1.0\n",
      "F1_Score ---> 1.0\n",
      "MCC ---> 1.0\n"
     ]
    }
   ],
   "source": [
    "TP_lr = cm_lr[0][0]\n",
    "FP_lr = cm_lr[0][1]\n",
    "FN_lr = cm_lr[1][0]\n",
    "TN_lr = cm_lr[1][1]\n",
    "\n",
    "# calculate accuracy\n",
    "lr_accuracy = (float (TP_lr+TN_lr) / float(TP_lr + TN_lr + FP_lr + FN_lr))\n",
    "    \n",
    "# calculate mis-classification\n",
    "lr_misclassification = 1- lr_accuracy\n",
    "    \n",
    "# calculate the sensitivity\n",
    "lr_sensitivity = (TP_lr / float(TP_lr + FN_lr))    # calculate the specificity\n",
    "lr_specificity = (TN_lr / float(TN_lr + FP_lr))\n",
    "# calculate precision\n",
    "lr_precision = (TN_lr / float(TN_lr + FP_lr))    # calculate f_1 score\n",
    "lr_f1 = 2 * ((lr_precision * lr_sensitivity) / (lr_precision + lr_sensitivity))\n",
    "\n",
    "# calculate MCC\n",
    "import math\n",
    "lr_x= (TP_lr +FP_lr) * (TP_lr + FN_lr) * (TN_lr + FP_lr) * (TN_lr + FN_lr)\n",
    "lr_mcc = (TP_lr * TN_lr - FP_lr * FN_lr) / float(math.sqrt(lr_x))\n",
    "\n",
    "print(\"Accuracy ---> {0}\".format(lr_accuracy))\n",
    "print(\"Missclassification ---> {0}\".format(lr_misclassification))\n",
    "print(\"Sensitivity ---> {0}\".format(lr_sensitivity))\n",
    "print(\"Specificity ---> {0}\".format(lr_specificity))\n",
    "print(\"Precision ---> {0}\".format(lr_precision))\n",
    "print(\"F1_Score ---> {0}\".format(lr_f1))\n",
    "print(\"MCC ---> {0}\".format(lr_mcc))\n"
   ]
  },
  {
   "cell_type": "code",
   "execution_count": 137,
   "metadata": {},
   "outputs": [
    {
     "name": "stdout",
     "output_type": "stream",
     "text": [
      "--- 0.007578134536743164 seconds ---\n"
     ]
    },
    {
     "name": "stderr",
     "output_type": "stream",
     "text": [
      "C:\\Users\\KIIT\\Anaconda3\\lib\\site-packages\\sklearn\\linear_model\\logistic.py:432: FutureWarning: Default solver will be changed to 'lbfgs' in 0.22. Specify a solver to silence this warning.\n",
      "  FutureWarning)\n"
     ]
    }
   ],
   "source": [
    "#Applying PCA to Logistic Regression\n",
    "from sklearn.decomposition import PCA\n",
    "import time \n",
    "start_time = time.time()\n",
    "pca= PCA(n_components=2)\n",
    "#X_train_new = pca.fit_transform(X_train)\n",
    "#X_test_new=pca.transform(X_test)\n",
    "classifier_lr.fit(X_train_new, y_train)\n",
    "y_pred_lr_new=classifier_lr.predict(X_test_new)\n",
    "accuracy_score(y_test, y_pred_lr_new)\n",
    "print(\"--- %s seconds ---\" % (time.time() - start_time))"
   ]
  },
  {
   "cell_type": "code",
   "execution_count": 138,
   "metadata": {},
   "outputs": [
    {
     "name": "stdout",
     "output_type": "stream",
     "text": [
      "1.0\n",
      "1.0\n",
      "1.0\n"
     ]
    },
    {
     "data": {
      "text/plain": [
       "array([[26,  0],\n",
       "       [ 0, 41]], dtype=int64)"
      ]
     },
     "execution_count": 138,
     "metadata": {},
     "output_type": "execute_result"
    }
   ],
   "source": [
    "from sklearn.metrics import accuracy_score, f1_score, precision_score, recall_score, classification_report, confusion_matrix\n",
    "f1_lr_new = f1_score(y_test, y_pred_lr_new)\n",
    "prec_lr_new = precision_score(y_test, y_pred_lr_new)\n",
    "recall_lr_new = recall_score(y_test, y_pred_lr_new)\n",
    "print(f1_lr_new)\n",
    "print(prec_lr_new)\n",
    "print(recall_lr_new)\n",
    "#f1_score=0.9714, precision= 0.9714 ,recall=0.9714\n",
    "#f1_score=0.9846, precision= 1.0 ,recall=0.9696\n",
    "1,1,1\n",
    "\n",
    "#Making confusion matrix\n",
    "from sklearn.metrics import confusion_matrix\n",
    "cm_lr_new=confusion_matrix(y_test, y_pred_lr_new)\n",
    "cm_lr_new"
   ]
  },
  {
   "cell_type": "code",
   "execution_count": 139,
   "metadata": {},
   "outputs": [
    {
     "name": "stdout",
     "output_type": "stream",
     "text": [
      "Accuracy ---> 1.0\n",
      "Missclassification ---> 0.0\n",
      "Sensitivity ---> 1.0\n",
      "Specificity ---> 1.0\n",
      "Precision ---> 1.0\n",
      "F1_Score ---> 1.0\n",
      "MCC ---> 1.0\n"
     ]
    }
   ],
   "source": [
    "TP_lr_new = cm_lr_new[0][0]\n",
    "FP_lr_new = cm_lr_new[0][1]\n",
    "FN_lr_new = cm_lr_new[1][0]\n",
    "TN_lr_new = cm_lr_new[1][1]\n",
    "\n",
    "# calculate accuracy\n",
    "lr_accuracy_new = (float (TP_lr_new+TN_lr_new) / float(TP_lr_new + TN_lr_new + FP_lr_new + FN_lr_new))\n",
    "    \n",
    "# calculate mis-classification\n",
    "lr_misclassification_new = 1- lr_accuracy_new\n",
    "    \n",
    "# calculate the sensitivity\n",
    "lr_sensitivity_new = (TP_lr_new / float(TP_lr_new + FN_lr_new))    # calculate the specificity\n",
    "lr_specificity_new = (TN_lr_new / float(TN_lr_new + FP_lr_new))\n",
    "# calculate precision\n",
    "lr_precision_new = (TN_lr_new / float(TN_lr_new + FP_lr_new))    # calculate f_1 score\n",
    "lr_f1_new = 2 * ((lr_precision_new * lr_sensitivity_new) / (lr_precision_new + lr_sensitivity_new))\n",
    "\n",
    "# calculate MCC\n",
    "import math\n",
    "lr_x_new= (TP_lr_new +FP_lr_new) * (TP_lr_new + FN_lr_new) * (TN_lr_new + FP_lr_new) * (TN_lr_new + FN_lr_new)\n",
    "lr_mcc_new = (TP_lr_new * TN_lr_new - FP_lr_new * FN_lr_new) / float(math.sqrt(lr_x_new))\n",
    "\n",
    "print(\"Accuracy ---> {0}\".format(lr_accuracy_new))\n",
    "print(\"Missclassification ---> {0}\".format(lr_misclassification_new))\n",
    "print(\"Sensitivity ---> {0}\".format(lr_sensitivity_new))\n",
    "print(\"Specificity ---> {0}\".format(lr_specificity_new))\n",
    "print(\"Precision ---> {0}\".format(lr_precision_new))\n",
    "print(\"F1_Score ---> {0}\".format(lr_f1_new))\n",
    "print(\"MCC ---> {0}\".format(lr_mcc_new))"
   ]
  },
  {
   "cell_type": "code",
   "execution_count": 140,
   "metadata": {},
   "outputs": [
    {
     "data": {
      "image/png": "[encoded data removed]",
      "text/plain": [
       "<Figure size 432x288 with 2 Axes>"
      ]
     },
     "metadata": {},
     "output_type": "display_data"
    }
   ],
   "source": [
    "#Making confusion matrix\n",
    "from sklearn.metrics import confusion_matrix\n",
    "import seaborn as sns\n",
    "cm_lr=confusion_matrix(y_test, y_pred_lr_new)\n",
    "\n",
    "df_cm_lr = pd.DataFrame(cm_lr, range(2), range(2))\n",
    "sns.set(font_scale=1.4) #label size\n",
    "sns.heatmap(df_cm_lr, annot=True, annot_kws={\"size\": 16}) #font size\n",
    "\n",
    "\n",
    "plt.show()"
   ]
  },
  {
   "cell_type": "code",
   "execution_count": 141,
   "metadata": {},
   "outputs": [
    {
     "name": "stdout",
     "output_type": "stream",
     "text": [
      "--- 0.010905027389526367 seconds ---\n"
     ]
    }
   ],
   "source": [
    "#SVM\n",
    "from sklearn.svm import SVC\n",
    "import time \n",
    "start_time = time.time()\n",
    "classifier_svm=SVC(kernel='linear')\n",
    "classifier_svm.fit(X_train,y_train)\n",
    "y_pred_svm=classifier_svm.predict(X_test)\n",
    "from sklearn.metrics import accuracy_score\n",
    "accuracy_score(y_test, y_pred_svm)\n",
    "print(\"--- %s seconds ---\" % (time.time() - start_time))"
   ]
  },
  {
   "cell_type": "code",
   "execution_count": 142,
   "metadata": {},
   "outputs": [
    {
     "name": "stdout",
     "output_type": "stream",
     "text": [
      "1.0\n",
      "1.0\n",
      "1.0\n"
     ]
    },
    {
     "data": {
      "text/plain": [
       "array([[26,  0],\n",
       "       [ 0, 41]], dtype=int64)"
      ]
     },
     "execution_count": 142,
     "metadata": {},
     "output_type": "execute_result"
    }
   ],
   "source": [
    "from sklearn.metrics import accuracy_score, f1_score, precision_score, recall_score, classification_report, confusion_matrix\n",
    "f1_svm = f1_score(y_test, y_pred_svm)\n",
    "prec_svm = precision_score(y_test, y_pred_svm)\n",
    "recall_svm = recall_score(y_test, y_pred_svm)\n",
    "print(f1_svm)\n",
    "print(prec_svm)\n",
    "print(recall_svm)\n",
    "#f1_score=0.9859, precision=0.9722  ,recall=1.0\n",
    "#f1_score=0.9846, precision= 1.0 ,recall=0.9696\n",
    "#f1_score=0.9870, precision= 1.0 ,recall=0.9743\n",
    "1,1,1\n",
    "\n",
    "#Making confusion matrix\n",
    "from sklearn.metrics import confusion_matrix\n",
    "cm_svm=confusion_matrix(y_test, y_pred_svm)\n",
    "cm_svm"
   ]
  },
  {
   "cell_type": "code",
   "execution_count": 143,
   "metadata": {},
   "outputs": [
    {
     "name": "stdout",
     "output_type": "stream",
     "text": [
      "Accuracy ---> 1.0\n",
      "Missclassification ---> 0.0\n",
      "Sensitivity ---> 1.0\n",
      "Sensitivity ---> 1.0\n",
      "Precision ---> 1.0\n",
      "F1_Score ---> 1.0\n",
      "MCC ---> 1.0\n"
     ]
    }
   ],
   "source": [
    "TP_svm = cm_svm[0][0]\n",
    "FP_svm = cm_svm[0][1]\n",
    "FN_svm = cm_svm[1][0]\n",
    "TN_svm = cm_svm[1][1]\n",
    "\n",
    "# calculate accuracy\n",
    "svm_accuracy = (float (TP_svm+TN_svm) / float(TP_svm + TN_svm + FP_svm + FN_svm))\n",
    "    \n",
    "# calculate mis-classification\n",
    "svm_misclassification = 1- svm_accuracy\n",
    "    \n",
    "# calculate the sensitivity\n",
    "svm_sensitivity = (TP_svm / float(TP_svm + FN_svm))    # calculate the specificity\n",
    "svm_specificity = (TN_svm / float(TN_svm + FP_svm))\n",
    "# calculate precision\n",
    "svm_precision = (TN_svm / float(TN_svm + FP_svm))    # calculate f_1 score\n",
    "svm_f1 = 2 * ((svm_precision * svm_sensitivity) / (svm_precision + svm_sensitivity))\n",
    "\n",
    "# calculate MCC\n",
    "import math\n",
    "svm_x= (TP_svm +FP_svm) * (TP_svm + FN_svm) * (TN_svm + FP_svm) * (TN_svm + FN_svm)\n",
    "svm_mcc = (TP_svm * TN_svm - FP_svm * FN_svm) / float(math.sqrt(svm_x))\n",
    "\n",
    "print(\"Accuracy ---> {0}\".format(svm_accuracy))\n",
    "print(\"Missclassification ---> {0}\".format(svm_misclassification))\n",
    "print(\"Sensitivity ---> {0}\".format(svm_sensitivity))\n",
    "print(\"Sensitivity ---> {0}\".format(svm_specificity))\n",
    "print(\"Precision ---> {0}\".format(svm_precision))\n",
    "print(\"F1_Score ---> {0}\".format(svm_f1))\n",
    "print(\"MCC ---> {0}\".format(svm_mcc))"
   ]
  },
  {
   "cell_type": "code",
   "execution_count": 144,
   "metadata": {},
   "outputs": [
    {
     "name": "stdout",
     "output_type": "stream",
     "text": [
      "--- 0.008836030960083008 seconds ---\n"
     ]
    }
   ],
   "source": [
    "#Applying PCA to SVM\n",
    "from sklearn.decomposition import PCA\n",
    "import time \n",
    "start_time = time.time()\n",
    "pca= PCA(n_components=3)\n",
    "#X_train_new = pca.fit_transform(X_train)\n",
    "#X_test_new=pca.transform(X_test)\n",
    "classifier_svm.fit(X_train_new, y_train)\n",
    "y_pred_svm_new=classifier_svm.predict(X_test_new)\n",
    "accuracy_score(y_test, y_pred_svm_new)\n",
    "print(\"--- %s seconds ---\" % (time.time() - start_time))"
   ]
  },
  {
   "cell_type": "code",
   "execution_count": 145,
   "metadata": {},
   "outputs": [
    {
     "name": "stdout",
     "output_type": "stream",
     "text": [
      "1.0\n",
      "1.0\n",
      "1.0\n"
     ]
    },
    {
     "data": {
      "text/plain": [
       "array([[26,  0],\n",
       "       [ 0, 41]], dtype=int64)"
      ]
     },
     "execution_count": 145,
     "metadata": {},
     "output_type": "execute_result"
    }
   ],
   "source": [
    "from sklearn.metrics import accuracy_score, f1_score, precision_score, recall_score, classification_report, confusion_matrix\n",
    "f1_svm_new = f1_score(y_test, y_pred_svm_new)\n",
    "prec_svm_new = precision_score(y_test, y_pred_svm_new)\n",
    "recall_svm_new = recall_score(y_test, y_pred_svm_new)\n",
    "print(f1_svm_new)\n",
    "print(prec_svm_new)\n",
    "print(recall_svm_new)\n",
    "#f1_score=0.9859, precision=0.9722  ,recall=1.0\n",
    "#f1_score=0.9846, precision= 1.0 ,recall=0.9696\n",
    "1,1,1\n",
    "\n",
    "\n",
    "#Making confusion matrix\n",
    "from sklearn.metrics import confusion_matrix\n",
    "cm_svm_new=confusion_matrix(y_test, y_pred_svm_new)\n",
    "cm_svm_new"
   ]
  },
  {
   "cell_type": "code",
   "execution_count": 146,
   "metadata": {},
   "outputs": [
    {
     "name": "stdout",
     "output_type": "stream",
     "text": [
      "Accuracy ---> 1.0\n",
      "Missclassification ---> 0.0\n",
      "Sensitivity ---> 1.0\n",
      "Specificity ---> 1.0\n",
      "Precision ---> 1.0\n",
      "F1_Score ---> 1.0\n",
      "MCC ---> 1.0\n"
     ]
    }
   ],
   "source": [
    "TP_svm_new = cm_svm_new[0][0]\n",
    "FP_svm_new = cm_svm_new[0][1]\n",
    "FN_svm_new = cm_svm_new[1][0]\n",
    "TN_svm_new = cm_svm_new[1][1]\n",
    "\n",
    "# calculate accuracy\n",
    "svm_accuracy_new = (float (TP_svm_new+TN_svm_new) / float(TP_svm_new + TN_svm_new + FP_svm_new + FN_svm_new))\n",
    "    \n",
    "# calculate mis-classification\n",
    "svm_misclassification_new = 1- svm_accuracy_new\n",
    "    \n",
    "# calculate the sensitivity\n",
    "svm_sensitivity_new = (TP_svm_new / float(TP_svm_new + FN_svm_new))    # calculate the specificity\n",
    "svm_specificity_new = (TN_svm_new / float(TN_svm_new + FP_svm_new))\n",
    "# calculate precision\n",
    "svm_precision_new = (TN_svm_new / float(TN_svm_new + FP_svm_new))    # calculate f_1 score\n",
    "svm_f1_new = 2 * ((svm_precision_new * svm_sensitivity_new) / (svm_precision_new + svm_sensitivity_new))\n",
    "\n",
    "# calculate MCC\n",
    "import math\n",
    "svm_x_new= (TP_svm_new +FP_svm_new) * (TP_svm_new + FN_svm_new) * (TN_svm_new + FP_svm_new) * (TN_svm_new + FN_svm_new)\n",
    "svm_mcc_new = (TP_svm_new * TN_svm_new - FP_svm_new * FN_svm_new) / float(math.sqrt(svm_x_new))\n",
    "\n",
    "print(\"Accuracy ---> {0}\".format(svm_accuracy_new))\n",
    "print(\"Missclassification ---> {0}\".format(svm_misclassification_new))\n",
    "print(\"Sensitivity ---> {0}\".format(svm_sensitivity_new))\n",
    "print(\"Specificity ---> {0}\".format(svm_specificity_new))\n",
    "print(\"Precision ---> {0}\".format(svm_precision_new))\n",
    "print(\"F1_Score ---> {0}\".format(svm_f1_new))\n",
    "print(\"MCC ---> {0}\".format(svm_mcc_new))"
   ]
  },
  {
   "cell_type": "code",
   "execution_count": 147,
   "metadata": {},
   "outputs": [
    {
     "data": {
      "image/png": "[encoded data removed]",
      "text/plain": [
       "<Figure size 432x288 with 2 Axes>"
      ]
     },
     "metadata": {},
     "output_type": "display_data"
    }
   ],
   "source": [
    "#Making confusion matrix\n",
    "from sklearn.metrics import confusion_matrix\n",
    "import seaborn as sns\n",
    "cm_svm=confusion_matrix(y_test, y_pred_svm_new)\n",
    "\n",
    "df_cm_svm = pd.DataFrame(cm_svm, range(2), range(2))\n",
    "sns.set(font_scale=1.4) #label size\n",
    "sns.heatmap(df_cm_svm, annot=True, annot_kws={\"size\": 16}) #font size\n",
    "\n",
    "\n",
    "plt.show()"
   ]
  },
  {
   "cell_type": "code",
   "execution_count": 148,
   "metadata": {},
   "outputs": [
    {
     "name": "stdout",
     "output_type": "stream",
     "text": [
      "--- 0.007141828536987305 seconds ---\n"
     ]
    }
   ],
   "source": [
    "#KSVM\n",
    "from sklearn.svm import SVC\n",
    "import time \n",
    "start_time = time.time()\n",
    "classifier_ksvm=SVC(kernel='rbf')\n",
    "classifier_ksvm.fit(X_train,y_train)\n",
    "y_pred_ksvm=classifier_ksvm.predict(X_test)\n",
    "from sklearn.metrics import accuracy_score\n",
    "accuracy_score(y_test, y_pred_ksvm)\n",
    "print(\"--- %s seconds ---\" % (time.time() - start_time))"
   ]
  },
  {
   "cell_type": "code",
   "execution_count": 149,
   "metadata": {},
   "outputs": [
    {
     "name": "stdout",
     "output_type": "stream",
     "text": [
      "1.0\n",
      "1.0\n",
      "1.0\n"
     ]
    },
    {
     "data": {
      "text/plain": [
       "array([[26,  0],\n",
       "       [ 0, 41]], dtype=int64)"
      ]
     },
     "execution_count": 149,
     "metadata": {},
     "output_type": "execute_result"
    }
   ],
   "source": [
    "from sklearn.metrics import accuracy_score, f1_score, precision_score, recall_score, classification_report, confusion_matrix\n",
    "f1_ksvm = f1_score(y_test, y_pred_ksvm)\n",
    "prec_ksvm = precision_score(y_test, y_pred_ksvm)\n",
    "recall_ksvm = recall_score(y_test, y_pred_ksvm)\n",
    "print(f1_ksvm)\n",
    "print(prec_ksvm)\n",
    "print(recall_ksvm)\n",
    "#f1_score=0.9859, precision=0.9722  ,recall=1.0\n",
    "#f1_score=1.0, precision=1.0, recall=1.0\n",
    "\n",
    "\n",
    "#Making confusion matrix\n",
    "from sklearn.metrics import confusion_matrix\n",
    "cm_ksvm=confusion_matrix(y_test, y_pred_ksvm)\n",
    "cm_svm"
   ]
  },
  {
   "cell_type": "code",
   "execution_count": 150,
   "metadata": {},
   "outputs": [
    {
     "name": "stdout",
     "output_type": "stream",
     "text": [
      "Accuracy ---> 1.0\n",
      "Missclassification ---> 0.0\n",
      "Sensitivity ---> 1.0\n",
      "Specificity ---> 1.0\n",
      "Precision ---> 1.0\n",
      "F1_Score ---> 1.0\n",
      "MCC ---> 1.0\n"
     ]
    }
   ],
   "source": [
    "TP_ksvm = cm_ksvm[0][0]\n",
    "FP_ksvm = cm_ksvm[0][1]\n",
    "FN_ksvm = cm_ksvm[1][0]\n",
    "TN_ksvm = cm_ksvm[1][1]\n",
    "\n",
    "# calculate accuracy\n",
    "ksvm_accuracy = (float (TP_ksvm+TN_ksvm) / float(TP_ksvm + TN_ksvm + FP_ksvm + FN_ksvm))\n",
    "    \n",
    "# calculate mis-classification\n",
    "ksvm_misclassification = 1- ksvm_accuracy\n",
    "    \n",
    "# calculate the sensitivity\n",
    "ksvm_sensitivity = (TP_ksvm / float(TP_ksvm + FN_ksvm))    # calculate the specificity\n",
    "ksvm_specificity = (TN_ksvm / float(TN_ksvm + FP_ksvm))\n",
    "# calculate precision\n",
    "ksvm_precision = (TN_ksvm / float(TN_ksvm + FP_ksvm))    # calculate f_1 score\n",
    "ksvm_f1 = 2 * ((ksvm_precision * ksvm_sensitivity) / (ksvm_precision + ksvm_sensitivity))\n",
    "\n",
    "# calculate MCC\n",
    "import math\n",
    "ksvm_x= (TP_ksvm +FP_ksvm) * (TP_ksvm + FN_ksvm) * (TN_ksvm + FP_ksvm) * (TN_ksvm + FN_ksvm)\n",
    "ksvm_mcc = (TP_ksvm * TN_ksvm - FP_ksvm * FN_ksvm) / float(math.sqrt(ksvm_x))\n",
    "\n",
    "print(\"Accuracy ---> {0}\".format(ksvm_accuracy))\n",
    "print(\"Missclassification ---> {0}\".format(ksvm_misclassification))\n",
    "print(\"Sensitivity ---> {0}\".format(ksvm_sensitivity))\n",
    "print(\"Specificity ---> {0}\".format(ksvm_specificity))\n",
    "print(\"Precision ---> {0}\".format(ksvm_precision))\n",
    "print(\"F1_Score ---> {0}\".format(ksvm_f1))\n",
    "print(\"MCC ---> {0}\".format(ksvm_mcc))"
   ]
  },
  {
   "cell_type": "code",
   "execution_count": 151,
   "metadata": {},
   "outputs": [
    {
     "name": "stdout",
     "output_type": "stream",
     "text": [
      "--- 0.016736268997192383 seconds ---\n"
     ]
    },
    {
     "name": "stderr",
     "output_type": "stream",
     "text": [
      "C:\\Users\\KIIT\\Anaconda3\\lib\\site-packages\\sklearn\\svm\\base.py:193: FutureWarning: The default value of gamma will change from 'auto' to 'scale' in version 0.22 to account better for unscaled features. Set gamma explicitly to 'auto' or 'scale' to avoid this warning.\n",
      "  \"avoid this warning.\", FutureWarning)\n"
     ]
    }
   ],
   "source": [
    "#Applying PCA to KSVM\n",
    "from sklearn.decomposition import PCA\n",
    "import time \n",
    "start_time = time.time()\n",
    "pca= PCA(n_components=2)\n",
    "X_train_new = pca.fit_transform(X_train)\n",
    "X_test_new=pca.transform(X_test)\n",
    "classifier_ksvm.fit(X_train_new, y_train)\n",
    "y_pred_ksvm_new=classifier_ksvm.predict(X_test_new)\n",
    "accuracy_score(y_test, y_pred_ksvm_new)\n",
    "print(\"--- %s seconds ---\" % (time.time() - start_time))"
   ]
  },
  {
   "cell_type": "code",
   "execution_count": 152,
   "metadata": {},
   "outputs": [
    {
     "name": "stdout",
     "output_type": "stream",
     "text": [
      "1.0\n",
      "1.0\n",
      "1.0\n"
     ]
    },
    {
     "data": {
      "text/plain": [
       "array([[26,  0],\n",
       "       [ 0, 41]], dtype=int64)"
      ]
     },
     "execution_count": 152,
     "metadata": {},
     "output_type": "execute_result"
    }
   ],
   "source": [
    "from sklearn.metrics import accuracy_score, f1_score, precision_score, recall_score, classification_report, confusion_matrix\n",
    "f1_ksvm_new = f1_score(y_test, y_pred_ksvm_new)\n",
    "prec_ksvm_new = precision_score(y_test, y_pred_ksvm_new)\n",
    "recall_ksvm_new = recall_score(y_test, y_pred_ksvm_new)\n",
    "print(f1_ksvm_new)\n",
    "print(prec_ksvm_new)\n",
    "print(recall_ksvm_new)\n",
    "#f1_score=0.9859, precision=0.9722  ,recall=1.0\n",
    "#f1_score=0.9846, precision= 1.0 ,recall=0.9696\n",
    "#1,1,1\n",
    "\n",
    "\n",
    "#Making confusion matrix\n",
    "from sklearn.metrics import confusion_matrix\n",
    "cm_ksvm_new=confusion_matrix(y_test, y_pred_ksvm_new)\n",
    "cm_ksvm_new"
   ]
  },
  {
   "cell_type": "code",
   "execution_count": 153,
   "metadata": {},
   "outputs": [
    {
     "name": "stdout",
     "output_type": "stream",
     "text": [
      "Accuracy ---> 1.0\n",
      "Missclassification ---> 0.0\n",
      "Sensitivity ---> 1.0\n",
      "Specificity ---> 1.0\n",
      "Precision ---> 1.0\n",
      "F1_Score ---> 1.0\n",
      "MCC ---> 1.0\n"
     ]
    }
   ],
   "source": [
    "TP_ksvm_new = cm_ksvm_new[0][0]\n",
    "FP_ksvm_new = cm_ksvm_new[0][1]\n",
    "FN_ksvm_new = cm_ksvm_new[1][0]\n",
    "TN_ksvm_new = cm_ksvm_new[1][1]\n",
    "\n",
    "# calculate accuracy\n",
    "ksvm_accuracy_new = (float (TP_ksvm_new+TN_ksvm_new) / float(TP_ksvm_new + TN_ksvm_new + FP_ksvm_new + FN_ksvm_new))\n",
    "    \n",
    "# calculate mis-classification\n",
    "ksvm_misclassification_new = 1- ksvm_accuracy_new\n",
    "    \n",
    "# calculate the sensitivity\n",
    "ksvm_sensitivity_new = (TP_ksvm_new / float(TP_ksvm_new + FN_ksvm_new))    # calculate the specificity\n",
    "ksvm_specificity_new = (TN_ksvm_new / float(TN_ksvm_new + FP_ksvm_new))\n",
    "# calculate precision\n",
    "ksvm_precision_new = (TN_ksvm_new / float(TN_ksvm_new + FP_ksvm_new))    # calculate f_1 score\n",
    "ksvm_f1_new = 2 * ((ksvm_precision_new * ksvm_sensitivity_new) / (ksvm_precision_new + ksvm_sensitivity_new))\n",
    "\n",
    "# calculate MCC\n",
    "import math\n",
    "ksvm_x_new= (TP_ksvm_new +FP_ksvm_new) * (TP_ksvm_new + FN_ksvm_new) * (TN_ksvm_new + FP_ksvm_new) * (TN_ksvm_new + FN_ksvm_new)\n",
    "ksvm_mcc_new = (TP_ksvm_new * TN_ksvm_new - FP_ksvm_new * FN_ksvm_new) / float(math.sqrt(ksvm_x_new))\n",
    "\n",
    "print(\"Accuracy ---> {0}\".format(ksvm_accuracy_new))\n",
    "print(\"Missclassification ---> {0}\".format(ksvm_misclassification_new))\n",
    "print(\"Sensitivity ---> {0}\".format(ksvm_sensitivity_new))\n",
    "print(\"Specificity ---> {0}\".format(ksvm_specificity_new))\n",
    "print(\"Precision ---> {0}\".format(ksvm_precision_new))\n",
    "print(\"F1_Score ---> {0}\".format(ksvm_f1_new))\n",
    "print(\"MCC ---> {0}\".format(ksvm_mcc_new))"
   ]
  },
  {
   "cell_type": "code",
   "execution_count": 154,
   "metadata": {},
   "outputs": [
    {
     "data": {
      "image/png": "[encoded data removed]",
      "text/plain": [
       "<Figure size 432x288 with 2 Axes>"
      ]
     },
     "metadata": {},
     "output_type": "display_data"
    }
   ],
   "source": [
    "#Making confusion matrix\n",
    "from sklearn.metrics import confusion_matrix\n",
    "import seaborn as sns\n",
    "cm_ksvm=confusion_matrix(y_test, y_pred_ksvm_new)\n",
    "\n",
    "df_cm_ksvm = pd.DataFrame(cm_ksvm, range(2), range(2))\n",
    "sns.set(font_scale=1.4) #label size\n",
    "sns.heatmap(df_cm_ksvm, annot=True, annot_kws={\"size\": 16}) #font size\n",
    "\n",
    "\n",
    "plt.show()"
   ]
  },
  {
   "cell_type": "code",
   "execution_count": 155,
   "metadata": {},
   "outputs": [
    {
     "name": "stdout",
     "output_type": "stream",
     "text": [
      "--- 0.011851787567138672 seconds ---\n"
     ]
    }
   ],
   "source": [
    "#NB\n",
    "from sklearn.naive_bayes import GaussianNB\n",
    "import time \n",
    "start_time = time.time()\n",
    "classifier_NB = GaussianNB()\n",
    "classifier_NB.fit(X_train, y_train)\n",
    "y_pred_NB=classifier_NB.predict(X_test)\n",
    "from sklearn.metrics import accuracy_score\n",
    "accuracy_score(y_test, y_pred_NB)\n",
    "print(\"--- %s seconds ---\" % (time.time() - start_time))"
   ]
  },
  {
   "cell_type": "code",
   "execution_count": 156,
   "metadata": {},
   "outputs": [
    {
     "name": "stdout",
     "output_type": "stream",
     "text": [
      "0.9487179487179488\n",
      "1.0\n",
      "0.9024390243902439\n"
     ]
    },
    {
     "data": {
      "text/plain": [
       "array([[26,  0],\n",
       "       [ 4, 37]], dtype=int64)"
      ]
     },
     "execution_count": 156,
     "metadata": {},
     "output_type": "execute_result"
    }
   ],
   "source": [
    "from sklearn.metrics import accuracy_score, f1_score, precision_score, recall_score, classification_report, confusion_matrix\n",
    "f1_NB = f1_score(y_test, y_pred_NB)\n",
    "prec_NB = precision_score(y_test, y_pred_NB)\n",
    "recall_NB = recall_score(y_test, y_pred_NB)\n",
    "print(f1_NB)\n",
    "print(prec_NB)\n",
    "print(recall_NB)\n",
    "#f1_score=0.9565, precision=0.9705, recall=0.9428\n",
    "#f1_score=0.9180, precision=1.0, recall=0.8484\n",
    "#f1_score=0.9375, precision=1.0, recall=0.8823\n",
    "#f1_score=0.9677, precision=1.0, recall=0.9375\n",
    "\n",
    "#Making confusion matrix\n",
    "from sklearn.metrics import confusion_matrix\n",
    "cm_NB=confusion_matrix(y_test, y_pred_NB)\n",
    "cm_NB"
   ]
  },
  {
   "cell_type": "code",
   "execution_count": 157,
   "metadata": {},
   "outputs": [
    {
     "name": "stdout",
     "output_type": "stream",
     "text": [
      "Accuracy ---> 0.9402985074626866\n",
      "Missclassification ---> 0.05970149253731338\n",
      "Sensitivity ---> 0.8666666666666667\n",
      "Specificity ---> 1.0\n",
      "Precision ---> 1.0\n",
      "F1_Score ---> 0.9285714285714286\n",
      "MCC ---> 0.8843719925111894\n"
     ]
    }
   ],
   "source": [
    "TP_NB = cm_NB[0][0]\n",
    "FP_NB = cm_NB[0][1]\n",
    "FN_NB = cm_NB[1][0]\n",
    "TN_NB = cm_NB[1][1]\n",
    "\n",
    "# calculate accuracy\n",
    "NB_accuracy = (float (TP_NB+TN_NB) / float(TP_NB + TN_NB + FP_NB + FN_NB))\n",
    "    \n",
    "# calculate mis-classification\n",
    "NB_misclassification = 1- NB_accuracy\n",
    "    \n",
    "# calculate the sensitivity\n",
    "NB_sensitivity = (TP_NB / float(TP_NB + FN_NB))    # calculate the specificity\n",
    "NB_specificity = (TN_NB / float(TN_NB + FP_NB))\n",
    "# calculate precision\n",
    "NB_precision = (TN_NB / float(TN_NB + FP_NB))    # calculate f_1 score\n",
    "NB_f1 = 2 * ((NB_precision * NB_sensitivity) / (NB_precision + NB_sensitivity))\n",
    "\n",
    "# calculate MCC\n",
    "import math\n",
    "NB_x= (TP_NB +FP_NB) * (TP_NB + FN_NB) * (TN_NB + FP_NB) * (TN_NB + FN_NB)\n",
    "NB_mcc = (TP_NB * TN_NB - FP_NB * FN_NB) / float(math.sqrt(NB_x))\n",
    "\n",
    "print(\"Accuracy ---> {0}\".format(NB_accuracy))\n",
    "print(\"Missclassification ---> {0}\".format(NB_misclassification))\n",
    "print(\"Sensitivity ---> {0}\".format(NB_sensitivity))\n",
    "print(\"Specificity ---> {0}\".format(NB_specificity))\n",
    "print(\"Precision ---> {0}\".format(NB_precision))\n",
    "print(\"F1_Score ---> {0}\".format(NB_f1))\n",
    "print(\"MCC ---> {0}\".format(NB_mcc))"
   ]
  },
  {
   "cell_type": "code",
   "execution_count": 158,
   "metadata": {},
   "outputs": [
    {
     "name": "stdout",
     "output_type": "stream",
     "text": [
      "--- 0.01199197769165039 seconds ---\n"
     ]
    }
   ],
   "source": [
    "#Applying PCA to NB\n",
    "from sklearn.decomposition import PCA\n",
    "import time \n",
    "start_time = time.time()\n",
    "pca= PCA(n_components=2)\n",
    "X_train_new = pca.fit_transform(X_train)\n",
    "X_test_new=pca.transform(X_test)\n",
    "classifier_NB.fit(X_train_new, y_train)\n",
    "y_pred_NB_new=classifier_NB.predict(X_test_new)\n",
    "accuracy_score(y_test, y_pred_NB_new)\n",
    "print(\"--- %s seconds ---\" % (time.time() - start_time))"
   ]
  },
  {
   "cell_type": "code",
   "execution_count": 159,
   "metadata": {},
   "outputs": [
    {
     "name": "stdout",
     "output_type": "stream",
     "text": [
      "0.9876543209876543\n",
      "1.0\n",
      "0.975609756097561\n"
     ]
    },
    {
     "data": {
      "text/plain": [
       "array([[26,  0],\n",
       "       [ 1, 40]], dtype=int64)"
      ]
     },
     "execution_count": 159,
     "metadata": {},
     "output_type": "execute_result"
    }
   ],
   "source": [
    "from sklearn.metrics import accuracy_score, f1_score, precision_score, recall_score, classification_report, confusion_matrix\n",
    "f1_NB_new = f1_score(y_test, y_pred_NB_new)\n",
    "prec_NB_new = precision_score(y_test, y_pred_NB_new)\n",
    "recall_NB_new = recall_score(y_test, y_pred_NB_new)\n",
    "print(f1_NB_new)\n",
    "print(prec_NB_new)\n",
    "print(recall_NB_new)\n",
    "#f1_score=0.9859, precision=0.9722, recall=1.0\n",
    "#f1_score=0.9846, precision= 1.0 ,recall=0.9696\n",
    "#1,1,1\n",
    "\n",
    "\n",
    "#Making confusion matrix\n",
    "from sklearn.metrics import confusion_matrix\n",
    "cm_NB_new=confusion_matrix(y_test, y_pred_NB_new)\n",
    "cm_NB_new"
   ]
  },
  {
   "cell_type": "code",
   "execution_count": 160,
   "metadata": {},
   "outputs": [
    {
     "name": "stdout",
     "output_type": "stream",
     "text": [
      "Accuracy ---> 0.9850746268656716\n",
      "Missclassification ---> 0.014925373134328401\n",
      "Sensitivity ---> 0.9629629629629629\n",
      "Specificity ---> 1.0\n",
      "Precision ---> 1.0\n",
      "F1_Score ---> 0.9811320754716981\n",
      "MCC ---> 0.9692657331337372\n"
     ]
    }
   ],
   "source": [
    "TP_NB_new = cm_NB_new[0][0]\n",
    "FP_NB_new = cm_NB_new[0][1]\n",
    "FN_NB_new = cm_NB_new[1][0]\n",
    "TN_NB_new = cm_NB_new[1][1]\n",
    "\n",
    "# calculate accuracy\n",
    "NB_accuracy_new = (float (TP_NB_new+TN_NB_new) / float(TP_NB_new + TN_NB_new + FP_NB_new + FN_NB_new))\n",
    "    \n",
    "# calculate mis-classification\n",
    "NB_misclassification_new = 1- NB_accuracy_new\n",
    "    \n",
    "# calculate the sensitivity\n",
    "NB_sensitivity_new = (TP_NB_new / float(TP_NB_new + FN_NB_new))    # calculate the specificity\n",
    "NB_specificity_new = (TN_NB_new / float(TN_NB_new + FP_NB_new))\n",
    "# calculate precision\n",
    "NB_precision_new = (TN_NB_new / float(TN_NB_new + FP_NB_new))    # calculate f_1 score\n",
    "NB_f1_new = 2 * ((NB_precision_new * NB_sensitivity_new) / (NB_precision_new + NB_sensitivity_new))\n",
    "\n",
    "# calculate MCC\n",
    "import math\n",
    "NB_x_new= (TP_NB_new +FP_NB_new) * (TP_NB_new + FN_NB_new) * (TN_NB_new + FP_NB_new) * (TN_NB_new + FN_NB_new)\n",
    "NB_mcc_new = (TP_NB_new * TN_NB_new - FP_NB_new * FN_NB_new) / float(math.sqrt(NB_x_new))\n",
    "\n",
    "print(\"Accuracy ---> {0}\".format(NB_accuracy_new))\n",
    "print(\"Missclassification ---> {0}\".format(NB_misclassification_new))\n",
    "print(\"Sensitivity ---> {0}\".format(NB_sensitivity_new))\n",
    "print(\"Specificity ---> {0}\".format(NB_specificity_new))\n",
    "print(\"Precision ---> {0}\".format(NB_precision_new))\n",
    "print(\"F1_Score ---> {0}\".format(NB_f1_new))\n",
    "print(\"MCC ---> {0}\".format(NB_mcc_new))"
   ]
  },
  {
   "cell_type": "code",
   "execution_count": 161,
   "metadata": {},
   "outputs": [
    {
     "data": {
      "image/png": "[encoded data removed]",
      "text/plain": [
       "<Figure size 432x288 with 2 Axes>"
      ]
     },
     "metadata": {},
     "output_type": "display_data"
    }
   ],
   "source": [
    "#Making confusion matrix\n",
    "from sklearn.metrics import confusion_matrix\n",
    "import seaborn as sns\n",
    "cm_NB=confusion_matrix(y_test, y_pred_NB_new)\n",
    "\n",
    "df_cm_NB = pd.DataFrame(cm_NB, range(2), range(2))\n",
    "sns.set(font_scale=1.4) #label size\n",
    "sns.heatmap(df_cm_NB, annot=True, annot_kws={\"size\": 16}) #font size\n",
    "\n",
    "\n",
    "plt.show()"
   ]
  },
  {
   "cell_type": "code",
   "execution_count": 162,
   "metadata": {},
   "outputs": [
    {
     "name": "stdout",
     "output_type": "stream",
     "text": [
      "--- 0.009972333908081055 seconds ---\n"
     ]
    }
   ],
   "source": [
    "#DT\n",
    "from sklearn.tree import DecisionTreeClassifier\n",
    "import time \n",
    "start_time = time.time()\n",
    "classifier_dt = DecisionTreeClassifier(criterion = 'entropy', random_state = 0)\n",
    "classifier_dt.fit(X_train, y_train)\n",
    "y_pred_dt=classifier_dt.predict(X_test)\n",
    "from sklearn.metrics import accuracy_score\n",
    "accuracy_score(y_test, y_pred_dt)\n",
    "print(\"--- %s seconds ---\" % (time.time() - start_time))"
   ]
  },
  {
   "cell_type": "code",
   "execution_count": 163,
   "metadata": {},
   "outputs": [
    {
     "name": "stdout",
     "output_type": "stream",
     "text": [
      "0.9512195121951219\n",
      "0.9512195121951219\n",
      "0.9512195121951219\n"
     ]
    },
    {
     "data": {
      "text/plain": [
       "array([[24,  2],\n",
       "       [ 2, 39]], dtype=int64)"
      ]
     },
     "execution_count": 163,
     "metadata": {},
     "output_type": "execute_result"
    }
   ],
   "source": [
    "from sklearn.metrics import accuracy_score, f1_score, precision_score, recall_score, classification_report, confusion_matrix\n",
    "f1_dt = f1_score(y_test, y_pred_dt)\n",
    "prec_dt = precision_score(y_test, y_pred_dt)\n",
    "recall_dt = recall_score(y_test, y_pred_dt)\n",
    "print(f1_dt)\n",
    "print(prec_dt)\n",
    "print(recall_dt)\n",
    "#f1_score=0.9565, precision= 0.9705 ,recall=0.9428\n",
    "#f1_score=0.9552, precision= 0.9411 ,recall=0.9696\n",
    "#f1_score=0.9836, precision= 1.0 ,recall=0.9677\n",
    "#f1_score=0.9841, precision= 1.0 ,recall=0.9687\n",
    "\n",
    "\n",
    "#Making confusion matrix\n",
    "from sklearn.metrics import confusion_matrix\n",
    "cm_dt=confusion_matrix(y_test, y_pred_dt)\n",
    "cm_dt"
   ]
  },
  {
   "cell_type": "code",
   "execution_count": 164,
   "metadata": {},
   "outputs": [
    {
     "name": "stdout",
     "output_type": "stream",
     "text": [
      "Accuracy ---> 0.9402985074626866\n",
      "Missclassification ---> 0.05970149253731338\n",
      "Sensitivity ---> 0.9230769230769231\n",
      "Specificity ---> 0.9512195121951219\n",
      "Precision ---> 0.9512195121951219\n",
      "F1_Score ---> 0.9369369369369369\n",
      "MCC ---> 0.874296435272045\n"
     ]
    }
   ],
   "source": [
    "TP_dt = cm_dt[0][0]\n",
    "FP_dt = cm_dt[0][1]\n",
    "FN_dt = cm_dt[1][0]\n",
    "TN_dt = cm_dt[1][1]\n",
    "\n",
    "# calculate accuracy\n",
    "dt_accuracy = (float (TP_dt+TN_dt) / float(TP_dt + TN_dt + FP_dt + FN_dt))\n",
    "    \n",
    "# calculate mis-classification\n",
    "dt_misclassification = 1- dt_accuracy\n",
    "    \n",
    "# calculate the sensitivity\n",
    "dt_sensitivity = (TP_dt / float(TP_dt + FN_dt))    # calculate the specificity\n",
    "dt_specificity = (TN_dt / float(TN_dt + FP_dt))\n",
    "# calculate precision\n",
    "dt_precision = (TN_dt / float(TN_dt + FP_dt))    # calculate f_1 score\n",
    "dt_f1 = 2 * ((dt_precision * dt_sensitivity) / (dt_precision + dt_sensitivity))\n",
    "\n",
    "# calculate MCC\n",
    "import math\n",
    "dt_x= (TP_dt +FP_dt) * (TP_dt + FN_dt) * (TN_dt + FP_dt) * (TN_dt + FN_dt)\n",
    "dt_mcc = (TP_dt * TN_dt - FP_dt * FN_dt) / float(math.sqrt(dt_x))\n",
    "\n",
    "print(\"Accuracy ---> {0}\".format(dt_accuracy))\n",
    "print(\"Missclassification ---> {0}\".format(dt_misclassification))\n",
    "print(\"Sensitivity ---> {0}\".format(dt_sensitivity))\n",
    "print(\"Specificity ---> {0}\".format(dt_specificity))\n",
    "print(\"Precision ---> {0}\".format(dt_precision))\n",
    "print(\"F1_Score ---> {0}\".format(dt_f1))\n",
    "print(\"MCC ---> {0}\".format(dt_mcc))"
   ]
  },
  {
   "cell_type": "code",
   "execution_count": 165,
   "metadata": {},
   "outputs": [
    {
     "name": "stdout",
     "output_type": "stream",
     "text": [
      "--- 0.012443780899047852 seconds ---\n"
     ]
    }
   ],
   "source": [
    "#Applying PCA to DT\n",
    "from sklearn.decomposition import PCA\n",
    "import time \n",
    "start_time = time.time()\n",
    "pca= PCA(n_components=2)\n",
    "X_train_new = pca.fit_transform(X_train)\n",
    "X_test_new=pca.transform(X_test)\n",
    "classifier_dt.fit(X_train_new, y_train)\n",
    "y_pred_dt_new=classifier_dt.predict(X_test_new)\n",
    "accuracy_score(y_test, y_pred_dt_new)\n",
    "print(\"--- %s seconds ---\" % (time.time() - start_time))"
   ]
  },
  {
   "cell_type": "code",
   "execution_count": 166,
   "metadata": {},
   "outputs": [
    {
     "name": "stdout",
     "output_type": "stream",
     "text": [
      "1.0\n",
      "1.0\n",
      "1.0\n"
     ]
    },
    {
     "data": {
      "text/plain": [
       "array([[26,  0],\n",
       "       [ 0, 41]], dtype=int64)"
      ]
     },
     "execution_count": 166,
     "metadata": {},
     "output_type": "execute_result"
    }
   ],
   "source": [
    "from sklearn.metrics import accuracy_score, f1_score, precision_score, recall_score, classification_report, confusion_matrix\n",
    "f1_dt_new = f1_score(y_test, y_pred_dt_new)\n",
    "prec_dt_new = precision_score(y_test, y_pred_dt_new)\n",
    "recall_dt_new = recall_score(y_test, y_pred_dt_new)\n",
    "print(f1_dt_new)\n",
    "print(prec_dt_new)\n",
    "print(recall_dt_new)\n",
    "#f1_score=0.9859, precision= 0.9722 ,recall=1.0\n",
    "#f1_score=0.9846, precision= 1.0 ,recall=0.9696\n",
    "#1,1,1\n",
    "\n",
    "\n",
    "\n",
    "#Making confusion matrix\n",
    "from sklearn.metrics import confusion_matrix\n",
    "cm_dt_new=confusion_matrix(y_test, y_pred_dt_new)\n",
    "cm_dt_new"
   ]
  },
  {
   "cell_type": "code",
   "execution_count": 167,
   "metadata": {},
   "outputs": [
    {
     "name": "stdout",
     "output_type": "stream",
     "text": [
      "Accuracy ---> 1.0\n",
      "Missclassification ---> 0.0\n",
      "Sensitivity ---> 1.0\n",
      "Specificity ---> 1.0\n",
      "Precision ---> 1.0\n",
      "F1_Score ---> 1.0\n",
      "MCC ---> 1.0\n"
     ]
    }
   ],
   "source": [
    "TP_dt_new = cm_dt_new[0][0]\n",
    "FP_dt_new = cm_dt_new[0][1]\n",
    "FN_dt_new = cm_dt_new[1][0]\n",
    "TN_dt_new = cm_dt_new[1][1]\n",
    "\n",
    "# calculate accuracy\n",
    "dt_accuracy_new = (float (TP_dt_new+TN_dt_new) / float(TP_dt_new + TN_dt_new + FP_dt_new + FN_dt_new))\n",
    "    \n",
    "# calculate mis-classification\n",
    "dt_misclassification_new = 1- dt_accuracy_new\n",
    "    \n",
    "# calculate the sensitivity\n",
    "dt_sensitivity_new = (TP_dt_new / float(TP_dt_new + FN_dt_new))    # calculate the specificity\n",
    "dt_specificity_new = (TN_dt_new / float(TN_dt_new + FP_dt_new))\n",
    "# calculate precision\n",
    "dt_precision_new = (TN_dt_new / float(TN_dt_new + FP_dt_new))    # calculate f_1 score\n",
    "dt_f1_new = 2 * ((dt_precision_new * dt_sensitivity_new) / (dt_precision_new + dt_sensitivity_new))\n",
    "\n",
    "# calculate MCC\n",
    "import math\n",
    "dt_x_new= (TP_dt_new +FP_dt_new) * (TP_dt_new + FN_dt_new) * (TN_dt_new + FP_dt_new) * (TN_dt_new + FN_dt_new)\n",
    "dt_mcc_new = (TP_dt_new * TN_dt_new - FP_dt_new * FN_dt_new) / float(math.sqrt(dt_x_new))\n",
    "\n",
    "print(\"Accuracy ---> {0}\".format(dt_accuracy_new))\n",
    "print(\"Missclassification ---> {0}\".format(dt_misclassification_new))\n",
    "print(\"Sensitivity ---> {0}\".format(dt_sensitivity_new))\n",
    "print(\"Specificity ---> {0}\".format(dt_specificity_new))\n",
    "print(\"Precision ---> {0}\".format(dt_precision_new))\n",
    "print(\"F1_Score ---> {0}\".format(dt_f1_new))\n",
    "print(\"MCC ---> {0}\".format(dt_mcc_new))"
   ]
  },
  {
   "cell_type": "code",
   "execution_count": 168,
   "metadata": {},
   "outputs": [
    {
     "data": {
      "image/png": "[encoded data removed]",
      "text/plain": [
       "<Figure size 432x288 with 2 Axes>"
      ]
     },
     "metadata": {},
     "output_type": "display_data"
    }
   ],
   "source": [
    "#Making confusion matrix\n",
    "from sklearn.metrics import confusion_matrix\n",
    "import seaborn as sns\n",
    "cm_dt=confusion_matrix(y_test, y_pred_dt_new)\n",
    "\n",
    "df_cm_dt = pd.DataFrame(cm_dt, range(2), range(2))\n",
    "sns.set(font_scale=1.4) #label size\n",
    "sns.heatmap(df_cm_dt, annot=True, annot_kws={\"size\": 16}) #font size\n",
    "\n",
    "\n",
    "plt.show()"
   ]
  },
  {
   "cell_type": "markdown",
   "metadata": {},
   "source": [
    "# Random Forest"
   ]
  },
  {
   "cell_type": "code",
   "execution_count": 169,
   "metadata": {},
   "outputs": [
    {
     "name": "stdout",
     "output_type": "stream",
     "text": [
      "--- 0.057427167892456055 seconds ---\n"
     ]
    }
   ],
   "source": [
    "#RF\n",
    "from sklearn.ensemble import RandomForestClassifier\n",
    "import time \n",
    "start_time = time.time()\n",
    "classifier_rf = RandomForestClassifier(n_estimators = 10, criterion = 'entropy', random_state = 0)\n",
    "classifier_rf.fit(X_train, y_train)\n",
    "y_pred_rf=classifier_rf.predict(X_test)\n",
    "from sklearn.metrics import accuracy_score\n",
    "accuracy_score(y_test, y_pred_rf)\n",
    "print(\"--- %s seconds ---\" % (time.time() - start_time))"
   ]
  },
  {
   "cell_type": "code",
   "execution_count": 170,
   "metadata": {},
   "outputs": [
    {
     "name": "stdout",
     "output_type": "stream",
     "text": [
      "0.975609756097561\n",
      "0.975609756097561\n",
      "0.975609756097561\n"
     ]
    },
    {
     "data": {
      "text/plain": [
       "array([[25,  1],\n",
       "       [ 1, 40]], dtype=int64)"
      ]
     },
     "execution_count": 170,
     "metadata": {},
     "output_type": "execute_result"
    }
   ],
   "source": [
    "from sklearn.metrics import accuracy_score, f1_score, precision_score, recall_score, classification_report, confusion_matrix\n",
    "f1_rf = f1_score(y_test, y_pred_rf)\n",
    "prec_rf = precision_score(y_test, y_pred_rf)\n",
    "recall_rf = recall_score(y_test, y_pred_rf)\n",
    "print(f1_rf)\n",
    "print(prec_rf)\n",
    "print(recall_rf)\n",
    "#f1_score=0.9859, precision= 0.9722 ,recall=1.0\n",
    "#f1_score=0.9846, precision= 1.0 ,recall=0.9696\n",
    "#f1_score=0.9841, precision= 0.9687 ,recall=1.0\n",
    "#f1_score=0.9841, precision= 1.0 ,recall=0.96875\n",
    "\n",
    "\n",
    "\n",
    "#Making confusion matrix\n",
    "from sklearn.metrics import confusion_matrix\n",
    "cm_rf=confusion_matrix(y_test, y_pred_rf)\n",
    "cm_rf"
   ]
  },
  {
   "cell_type": "code",
   "execution_count": 171,
   "metadata": {},
   "outputs": [
    {
     "name": "stdout",
     "output_type": "stream",
     "text": [
      "Accuracy ---> 0.9701492537313433\n",
      "Missclassification ---> 0.02985074626865669\n",
      "Sensitivity ---> 0.9615384615384616\n",
      "Sensitivity ---> 0.975609756097561\n",
      "Precision ---> 0.975609756097561\n",
      "F1_Score ---> 0.9685230024213075\n",
      "MCC ---> 0.9371482176360225\n"
     ]
    }
   ],
   "source": [
    "TP_rf = cm_rf[0][0]\n",
    "FP_rf = cm_rf[0][1]\n",
    "FN_rf = cm_rf[1][0]\n",
    "TN_rf = cm_rf[1][1]\n",
    "\n",
    "# calculate accuracy\n",
    "rf_accuracy = (float (TP_rf+TN_rf) / float(TP_rf + TN_rf + FP_rf + FN_rf))\n",
    "    \n",
    "# calculate mis-classification\n",
    "rf_misclassification = 1- rf_accuracy\n",
    "    \n",
    "# calculate the sensitivity\n",
    "rf_sensitivity = (TP_rf / float(TP_rf + FN_rf))    # calculate the specificity\n",
    "rf_specificity = (TN_rf / float(TN_rf + FP_rf))\n",
    "# calculate precision\n",
    "rf_precision = (TN_rf / float(TN_rf + FP_rf))    # calculate f_1 score\n",
    "rf_f1 = 2 * ((rf_precision * rf_sensitivity) / (rf_precision + rf_sensitivity))\n",
    "\n",
    "# calculate MCC\n",
    "import math\n",
    "rf_x= (TP_rf +FP_rf) * (TP_rf + FN_rf) * (TN_rf + FP_rf) * (TN_rf + FN_rf)\n",
    "rf_mcc = (TP_rf * TN_rf - FP_rf * FN_rf) / float(math.sqrt(rf_x))\n",
    "\n",
    "print(\"Accuracy ---> {0}\".format(rf_accuracy))\n",
    "print(\"Missclassification ---> {0}\".format(rf_misclassification))\n",
    "print(\"Sensitivity ---> {0}\".format(rf_sensitivity))\n",
    "print(\"Sensitivity ---> {0}\".format(rf_specificity))\n",
    "print(\"Precision ---> {0}\".format(rf_precision))\n",
    "print(\"F1_Score ---> {0}\".format(rf_f1))\n",
    "print(\"MCC ---> {0}\".format(rf_mcc))"
   ]
  },
  {
   "cell_type": "code",
   "execution_count": 172,
   "metadata": {},
   "outputs": [
    {
     "name": "stdout",
     "output_type": "stream",
     "text": [
      "--- 0.05435037612915039 seconds ---\n"
     ]
    }
   ],
   "source": [
    "#Applying PCA to RF\n",
    "from sklearn.decomposition import PCA\n",
    "import time \n",
    "start_time = time.time()\n",
    "pca= PCA(n_components=2)\n",
    "X_train_new = pca.fit_transform(X_train)\n",
    "X_test_new=pca.transform(X_test)\n",
    "classifier_rf.fit(X_train_new, y_train)\n",
    "y_pred_rf_new=classifier_rf.predict(X_test_new)\n",
    "accuracy_score(y_test, y_pred_rf_new)\n",
    "print(\"--- %s seconds ---\" % (time.time() - start_time))"
   ]
  },
  {
   "cell_type": "code",
   "execution_count": 173,
   "metadata": {},
   "outputs": [
    {
     "name": "stdout",
     "output_type": "stream",
     "text": [
      "1.0\n",
      "1.0\n",
      "1.0\n"
     ]
    },
    {
     "data": {
      "text/plain": [
       "array([[26,  0],\n",
       "       [ 0, 41]], dtype=int64)"
      ]
     },
     "execution_count": 173,
     "metadata": {},
     "output_type": "execute_result"
    }
   ],
   "source": [
    "from sklearn.metrics import accuracy_score, f1_score, precision_score, recall_score, classification_report, confusion_matrix\n",
    "f1_rf_new = f1_score(y_test, y_pred_rf_new)\n",
    "prec_rf_new = precision_score(y_test, y_pred_rf_new)\n",
    "recall_rf_new = recall_score(y_test, y_pred_rf_new)\n",
    "print(f1_rf_new)\n",
    "print(prec_rf_new)\n",
    "print(recall_rf_new)\n",
    "#f1_score=0.9859, precision= 0.9722 ,recall=1.0\n",
    "#f1_score=0.9850, precision= 1.0 ,recall=0.9705\n",
    "#1,1,1\n",
    "\n",
    "\n",
    "\n",
    "#Making confusion matrix\n",
    "from sklearn.metrics import confusion_matrix\n",
    "cm_rf_new=confusion_matrix(y_test, y_pred_rf_new)\n",
    "cm_rf_new"
   ]
  },
  {
   "cell_type": "code",
   "execution_count": 174,
   "metadata": {},
   "outputs": [
    {
     "name": "stdout",
     "output_type": "stream",
     "text": [
      "Accuracy ---> 1.0\n",
      "Missclassification ---> 0.0\n",
      "Sensitivity ---> 1.0\n",
      "Specificity ---> 1.0\n",
      "Precision ---> 1.0\n",
      "F1_Score ---> 1.0\n",
      "MCC ---> 1.0\n"
     ]
    }
   ],
   "source": [
    "TP_rf_new = cm_rf_new[0][0]\n",
    "FP_rf_new = cm_rf_new[0][1]\n",
    "FN_rf_new = cm_rf_new[1][0]\n",
    "TN_rf_new = cm_rf_new[1][1]\n",
    "\n",
    "# calculate accuracy\n",
    "rf_accuracy_new = (float (TP_rf_new+TN_rf_new) / float(TP_rf_new + TN_rf_new + FP_rf_new + FN_rf_new))\n",
    "    \n",
    "# calculate mis-classification\n",
    "rf_misclassification_new = 1- rf_accuracy_new\n",
    "    \n",
    "# calculate the sensitivity\n",
    "rf_sensitivity_new = (TP_rf_new / float(TP_rf_new + FN_rf_new))    # calculate the specificity\n",
    "rf_specificity_new = (TN_rf_new / float(TN_rf_new + FP_rf_new))\n",
    "# calculate precision\n",
    "rf_precision_new = (TN_rf_new / float(TN_rf_new + FP_rf_new))    # calculate f_1 score\n",
    "rf_f1_new = 2 * ((rf_precision_new * rf_sensitivity_new) / (rf_precision_new + rf_sensitivity_new))\n",
    "\n",
    "# calculate MCC\n",
    "import math\n",
    "rf_x_new= (TP_rf_new +FP_rf_new) * (TP_rf_new + FN_rf_new) * (TN_rf_new + FP_rf_new) * (TN_rf_new + FN_rf_new)\n",
    "rf_mcc_new = (TP_rf_new * TN_rf_new - FP_rf_new * FN_rf_new) / float(math.sqrt(rf_x_new))\n",
    "\n",
    "print(\"Accuracy ---> {0}\".format(rf_accuracy_new))\n",
    "print(\"Missclassification ---> {0}\".format(rf_misclassification_new))\n",
    "print(\"Sensitivity ---> {0}\".format(rf_sensitivity_new))\n",
    "print(\"Specificity ---> {0}\".format(rf_specificity_new))\n",
    "print(\"Precision ---> {0}\".format(rf_precision_new))\n",
    "print(\"F1_Score ---> {0}\".format(rf_f1_new))\n",
    "print(\"MCC ---> {0}\".format(rf_mcc_new))"
   ]
  },
  {
   "cell_type": "code",
   "execution_count": 175,
   "metadata": {},
   "outputs": [
    {
     "data": {
      "image/png": "[encoded data removed]",
      "text/plain": [
       "<Figure size 432x288 with 2 Axes>"
      ]
     },
     "metadata": {},
     "output_type": "display_data"
    }
   ],
   "source": [
    "#Making confusion matrix\n",
    "from sklearn.metrics import confusion_matrix\n",
    "import seaborn as sns\n",
    "cm_rf=confusion_matrix(y_test, y_pred_rf_new)\n",
    "\n",
    "df_cm_rf = pd.DataFrame(cm_rf, range(2), range(2))\n",
    "sns.set(font_scale=1.4) #label size\n",
    "sns.heatmap(df_cm_rf, annot=True, annot_kws={\"size\": 16}) #font size\n",
    "\n",
    "\n",
    "plt.show()"
   ]
  },
  {
   "cell_type": "markdown",
   "metadata": {},
   "source": [
    "# XG Boost"
   ]
  },
  {
   "cell_type": "code",
   "execution_count": 176,
   "metadata": {},
   "outputs": [
    {
     "name": "stdout",
     "output_type": "stream",
     "text": [
      "[02:13:38] WARNING: C:/Users/Administrator/workspace/xgboost-win64_release_1.3.0/src/learner.cc:1061: Starting in XGBoost 1.3.0, the default evaluation metric used with the objective 'binary:logistic' was changed from 'error' to 'logloss'. Explicitly set eval_metric if you'd like to restore the old behavior.\n",
      "--- 0.14440536499023438 seconds ---\n"
     ]
    },
    {
     "name": "stderr",
     "output_type": "stream",
     "text": [
      "C:\\Users\\KIIT\\Anaconda3\\lib\\site-packages\\xgboost\\sklearn.py:888: UserWarning: The use of label encoder in XGBClassifier is deprecated and will be removed in a future release. To remove this warning, do the following: 1) Pass option use_label_encoder=False when constructing XGBClassifier object; and 2) Encode your labels (y) as integers starting with 0, i.e. 0, 1, 2, ..., [num_class - 1].\n",
      "  warnings.warn(label_encoder_deprecation_msg, UserWarning)\n"
     ]
    }
   ],
   "source": [
    "#xgb\n",
    "from xgboost import XGBClassifier\n",
    "import time \n",
    "start_time = time.time()\n",
    "classifier_xgb =XGBClassifier()\n",
    "classifier_xgb.fit(X_train, y_train)\n",
    "y_pred_xgb=classifier_xgb.predict(X_test)\n",
    "from sklearn.metrics import accuracy_score\n",
    "accuracy_score(y_test, y_pred_xgb)\n",
    "print(\"--- %s seconds ---\" % (time.time() - start_time))\n"
   ]
  },
  {
   "cell_type": "code",
   "execution_count": 177,
   "metadata": {},
   "outputs": [
    {
     "name": "stdout",
     "output_type": "stream",
     "text": [
      "0.963855421686747\n",
      "0.9523809523809523\n",
      "0.975609756097561\n"
     ]
    },
    {
     "data": {
      "text/plain": [
       "array([[24,  2],\n",
       "       [ 1, 40]], dtype=int64)"
      ]
     },
     "execution_count": 177,
     "metadata": {},
     "output_type": "execute_result"
    }
   ],
   "source": [
    "from sklearn.metrics import accuracy_score, f1_score, precision_score, recall_score, classification_report, confusion_matrix\n",
    "f1_xgb = f1_score(y_test, y_pred_xgb)\n",
    "prec_xgb = precision_score(y_test, y_pred_xgb)\n",
    "recall_xgb = recall_score(y_test, y_pred_xgb)\n",
    "print(f1_xgb)\n",
    "print(prec_xgb)\n",
    "print(recall_xgb)\n",
    "#f1_score=0.9859, precision= 0.9722 ,recall=1.0\n",
    "#f1_score=0.9846, precision= 1.0 ,recall=0.9696\n",
    "#f1_score=0.9841, precision= 0.9687 ,recall=1.0\n",
    "#f1_score=0.9841, precision= 1.0 ,recall=0.96875\n",
    "\n",
    "\n",
    "\n",
    "#Making confusion matrix\n",
    "from sklearn.metrics import confusion_matrix\n",
    "cm_xgb=confusion_matrix(y_test, y_pred_xgb)\n",
    "cm_xgb\n"
   ]
  },
  {
   "cell_type": "code",
   "execution_count": 178,
   "metadata": {},
   "outputs": [
    {
     "name": "stdout",
     "output_type": "stream",
     "text": [
      "Accuracy ---> 0.9552238805970149\n",
      "Missclassification ---> 0.04477611940298509\n",
      "Sensitivity ---> 0.96\n",
      "Sensitivity ---> 0.9523809523809523\n",
      "Precision ---> 0.9523809523809523\n",
      "F1_Score ---> 0.9561752988047808\n",
      "MCC ---> 0.9055079283127736\n"
     ]
    }
   ],
   "source": [
    "\n",
    "TP_xgb = cm_xgb[0][0]\n",
    "FP_xgb = cm_xgb[0][1]\n",
    "FN_xgb = cm_xgb[1][0]\n",
    "TN_xgb = cm_xgb[1][1]\n",
    "\n",
    "# calculate accuracy\n",
    "xgb_accuracy = (float (TP_xgb+TN_xgb) / float(TP_xgb + TN_xgb + FP_xgb + FN_xgb))\n",
    "    \n",
    "# calculate mis-classification\n",
    "xgb_misclassification = 1- xgb_accuracy\n",
    "    \n",
    "# calculate the sensitivity\n",
    "xgb_sensitivity = (TP_xgb / float(TP_xgb + FN_xgb))    # calculate the specificity\n",
    "xgb_specificity = (TN_xgb / float(TN_xgb + FP_xgb))\n",
    "# calculate precision\n",
    "xgb_precision = (TN_xgb / float(TN_xgb + FP_xgb))    # calculate f_1 score\n",
    "xgb_f1 = 2 * ((xgb_precision * xgb_sensitivity) / (xgb_precision + xgb_sensitivity))\n",
    "\n",
    "# calculate MCC\n",
    "import math\n",
    "xgb_x= (TP_xgb +FP_xgb) * (TP_xgb + FN_xgb) * (TN_xgb + FP_xgb) * (TN_xgb + FN_xgb)\n",
    "xgb_mcc = (TP_xgb * TN_xgb - FP_xgb * FN_xgb) / float(math.sqrt(xgb_x))\n",
    "\n",
    "print(\"Accuracy ---> {0}\".format(xgb_accuracy))\n",
    "print(\"Missclassification ---> {0}\".format(xgb_misclassification))\n",
    "print(\"Sensitivity ---> {0}\".format(xgb_sensitivity))\n",
    "print(\"Sensitivity ---> {0}\".format(xgb_specificity))\n",
    "print(\"Precision ---> {0}\".format(xgb_precision))\n",
    "print(\"F1_Score ---> {0}\".format(xgb_f1))\n",
    "print(\"MCC ---> {0}\".format(xgb_mcc))"
   ]
  },
  {
   "cell_type": "code",
   "execution_count": 179,
   "metadata": {},
   "outputs": [
    {
     "name": "stdout",
     "output_type": "stream",
     "text": [
      "[02:13:41] WARNING: C:/Users/Administrator/workspace/xgboost-win64_release_1.3.0/src/learner.cc:1061: Starting in XGBoost 1.3.0, the default evaluation metric used with the objective 'binary:logistic' was changed from 'error' to 'logloss'. Explicitly set eval_metric if you'd like to restore the old behavior.\n",
      "--- 0.13572454452514648 seconds ---\n"
     ]
    },
    {
     "name": "stderr",
     "output_type": "stream",
     "text": [
      "C:\\Users\\KIIT\\Anaconda3\\lib\\site-packages\\xgboost\\sklearn.py:888: UserWarning: The use of label encoder in XGBClassifier is deprecated and will be removed in a future release. To remove this warning, do the following: 1) Pass option use_label_encoder=False when constructing XGBClassifier object; and 2) Encode your labels (y) as integers starting with 0, i.e. 0, 1, 2, ..., [num_class - 1].\n",
      "  warnings.warn(label_encoder_deprecation_msg, UserWarning)\n"
     ]
    }
   ],
   "source": [
    "\n",
    "#Applying PCA to xgb\n",
    "from sklearn.decomposition import PCA\n",
    "import time \n",
    "start_time = time.time()\n",
    "pca= PCA(n_components=2)\n",
    "X_train_new = pca.fit_transform(X_train)\n",
    "X_test_new=pca.transform(X_test)\n",
    "classifier_xgb.fit(X_train_new, y_train)\n",
    "y_pred_xgb_new=classifier_xgb.predict(X_test_new)\n",
    "accuracy_score(y_test, y_pred_xgb_new)\n",
    "print(\"--- %s seconds ---\" % (time.time() - start_time))\n"
   ]
  },
  {
   "cell_type": "code",
   "execution_count": 180,
   "metadata": {},
   "outputs": [
    {
     "name": "stdout",
     "output_type": "stream",
     "text": [
      "1.0\n",
      "1.0\n",
      "1.0\n"
     ]
    },
    {
     "data": {
      "text/plain": [
       "array([[26,  0],\n",
       "       [ 0, 41]], dtype=int64)"
      ]
     },
     "execution_count": 180,
     "metadata": {},
     "output_type": "execute_result"
    }
   ],
   "source": [
    "\n",
    "from sklearn.metrics import accuracy_score, f1_score, precision_score, recall_score, classification_report, confusion_matrix\n",
    "f1_xgb_new = f1_score(y_test, y_pred_xgb_new)\n",
    "prec_xgb_new = precision_score(y_test, y_pred_xgb_new)\n",
    "recall_xgb_new = recall_score(y_test, y_pred_xgb_new)\n",
    "print(f1_xgb_new)\n",
    "print(prec_xgb_new)\n",
    "print(recall_xgb_new)\n",
    "#f1_score=0.9859, precision= 0.9722 ,recall=1.0\n",
    "#f1_score=0.9850, precision= 1.0 ,recall=0.9705\n",
    "#1,1,1\n",
    "\n",
    "\n",
    "\n",
    "#Making confusion matrix\n",
    "from sklearn.metrics import confusion_matrix\n",
    "cm_xgb_new=confusion_matrix(y_test, y_pred_xgb_new)\n",
    "cm_xgb_new\n"
   ]
  },
  {
   "cell_type": "code",
   "execution_count": 181,
   "metadata": {},
   "outputs": [
    {
     "name": "stdout",
     "output_type": "stream",
     "text": [
      "Accuracy ---> 1.0\n",
      "Missclassification ---> 0.0\n",
      "Sensitivity ---> 1.0\n",
      "Specificity ---> 1.0\n",
      "Precision ---> 1.0\n",
      "F1_Score ---> 1.0\n",
      "MCC ---> 1.0\n"
     ]
    }
   ],
   "source": [
    "\n",
    "\n",
    "TP_xgb_new = cm_xgb_new[0][0]\n",
    "FP_xgb_new = cm_xgb_new[0][1]\n",
    "FN_xgb_new = cm_xgb_new[1][0]\n",
    "TN_xgb_new = cm_xgb_new[1][1]\n",
    "\n",
    "# calculate accuracy\n",
    "xgb_accuracy_new = (float (TP_xgb_new+TN_xgb_new) / float(TP_xgb_new + TN_xgb_new + FP_xgb_new + FN_xgb_new))\n",
    "    \n",
    "# calculate mis-classification\n",
    "xgb_misclassification_new = 1- xgb_accuracy_new\n",
    "    \n",
    "# calculate the sensitivity\n",
    "xgb_sensitivity_new = (TP_xgb_new / float(TP_xgb_new + FN_xgb_new))    # calculate the specificity\n",
    "xgb_specificity_new = (TN_xgb_new / float(TN_xgb_new + FP_xgb_new))\n",
    "# calculate precision\n",
    "xgb_precision_new = (TN_xgb_new / float(TN_xgb_new + FP_xgb_new))    # calculate f_1 score\n",
    "xgb_f1_new = 2 * ((xgb_precision_new * xgb_sensitivity_new) / (xgb_precision_new + xgb_sensitivity_new))\n",
    "\n",
    "# calculate MCC\n",
    "import math\n",
    "xgb_x_new= (TP_xgb_new +FP_xgb_new) * (TP_xgb_new + FN_xgb_new) * (TN_xgb_new + FP_xgb_new) * (TN_xgb_new + FN_xgb_new)\n",
    "xgb_mcc_new = (TP_xgb_new * TN_xgb_new - FP_xgb_new * FN_xgb_new) / float(math.sqrt(xgb_x_new))\n",
    "\n",
    "print(\"Accuracy ---> {0}\".format(xgb_accuracy_new))\n",
    "print(\"Missclassification ---> {0}\".format(xgb_misclassification_new))\n",
    "print(\"Sensitivity ---> {0}\".format(xgb_sensitivity_new))\n",
    "print(\"Specificity ---> {0}\".format(xgb_specificity_new))\n",
    "print(\"Precision ---> {0}\".format(xgb_precision_new))\n",
    "print(\"F1_Score ---> {0}\".format(xgb_f1_new))\n",
    "print(\"MCC ---> {0}\".format(xgb_mcc_new))\n"
   ]
  },
  {
   "cell_type": "code",
   "execution_count": 182,
   "metadata": {},
   "outputs": [
    {
     "data": {
      "image/png": "[encoded data removed]",
      "text/plain": [
       "<Figure size 432x288 with 2 Axes>"
      ]
     },
     "metadata": {},
     "output_type": "display_data"
    }
   ],
   "source": [
    "\n",
    "\n",
    "#Making confusion matrix\n",
    "from sklearn.metrics import confusion_matrix\n",
    "import seaborn as sns\n",
    "cm_xgb=confusion_matrix(y_test, y_pred_xgb_new)\n",
    "\n",
    "df_cm_xgb = pd.DataFrame(cm_xgb, range(2), range(2))\n",
    "sns.set(font_scale=1.4) #label size\n",
    "sns.heatmap(df_cm_xgb, annot=True, annot_kws={\"size\": 16}) #font size\n",
    "\n",
    "\n",
    "plt.show()"
   ]
  },
  {
   "cell_type": "markdown",
   "metadata": {},
   "source": [
    "# LightGBM"
   ]
  },
  {
   "cell_type": "code",
   "execution_count": 183,
   "metadata": {},
   "outputs": [
    {
     "name": "stdout",
     "output_type": "stream",
     "text": [
      "--- 0.19985175132751465 seconds ---\n"
     ]
    }
   ],
   "source": [
    "#lgb\n",
    "from lightgbm import LGBMClassifier\n",
    "import time \n",
    "start_time = time.time()\n",
    "classifier_lgb =LGBMClassifier()\n",
    "classifier_lgb.fit(X_train, y_train)\n",
    "y_pred_lgb=classifier_lgb.predict(X_test)\n",
    "from sklearn.metrics import accuracy_score\n",
    "accuracy_score(y_test, y_pred_lgb)\n",
    "print(\"--- %s seconds ---\" % (time.time() - start_time))"
   ]
  },
  {
   "cell_type": "code",
   "execution_count": 184,
   "metadata": {},
   "outputs": [
    {
     "name": "stdout",
     "output_type": "stream",
     "text": [
      "1.0\n",
      "1.0\n",
      "1.0\n"
     ]
    },
    {
     "data": {
      "text/plain": [
       "array([[26,  0],\n",
       "       [ 0, 41]], dtype=int64)"
      ]
     },
     "execution_count": 184,
     "metadata": {},
     "output_type": "execute_result"
    }
   ],
   "source": [
    "\n",
    "from sklearn.metrics import accuracy_score, f1_score, precision_score, recall_score, classification_report, confusion_matrix\n",
    "f1_lgb = f1_score(y_test, y_pred_lgb)\n",
    "prec_lgb = precision_score(y_test, y_pred_lgb)\n",
    "recall_lgb = recall_score(y_test, y_pred_lgb)\n",
    "print(f1_lgb)\n",
    "print(prec_lgb)\n",
    "print(recall_lgb)\n",
    "#f1_score=0.9859, precision= 0.9722 ,recall=1.0\n",
    "#f1_score=0.9846, precision= 1.0 ,recall=0.9696\n",
    "#f1_score=0.9841, precision= 0.9687 ,recall=1.0\n",
    "#f1_score=0.9841, precision= 1.0 ,recall=0.96875\n",
    "\n",
    "\n",
    "\n",
    "#Making confusion matrix\n",
    "from sklearn.metrics import confusion_matrix\n",
    "cm_lgb=confusion_matrix(y_test, y_pred_lgb)\n",
    "cm_lgb\n"
   ]
  },
  {
   "cell_type": "code",
   "execution_count": 185,
   "metadata": {},
   "outputs": [
    {
     "name": "stdout",
     "output_type": "stream",
     "text": [
      "Accuracy ---> 1.0\n",
      "Missclassification ---> 0.0\n",
      "Sensitivity ---> 1.0\n",
      "Sensitivity ---> 1.0\n",
      "Precision ---> 1.0\n",
      "F1_Score ---> 1.0\n",
      "MCC ---> 1.0\n"
     ]
    }
   ],
   "source": [
    "TP_lgb = cm_lgb[0][0]\n",
    "FP_lgb = cm_lgb[0][1]\n",
    "FN_lgb = cm_lgb[1][0]\n",
    "TN_lgb = cm_lgb[1][1]\n",
    "\n",
    "# calculate accuracy\n",
    "lgb_accuracy = (float (TP_lgb+TN_lgb) / float(TP_lgb + TN_lgb + FP_lgb + FN_lgb))\n",
    "    \n",
    "# calculate mis-classification\n",
    "lgb_misclassification = 1- lgb_accuracy\n",
    "    \n",
    "# calculate the sensitivity\n",
    "lgb_sensitivity = (TP_lgb / float(TP_lgb + FN_lgb))    # calculate the specificity\n",
    "lgb_specificity = (TN_lgb / float(TN_lgb + FP_lgb))\n",
    "# calculate precision\n",
    "lgb_precision = (TN_lgb / float(TN_lgb + FP_lgb))    # calculate f_1 score\n",
    "lgb_f1 = 2 * ((lgb_precision * lgb_sensitivity) / (lgb_precision + lgb_sensitivity))\n",
    "\n",
    "# calculate MCC\n",
    "import math\n",
    "lgb_x= (TP_lgb +FP_lgb) * (TP_lgb + FN_lgb) * (TN_lgb + FP_lgb) * (TN_lgb + FN_lgb)\n",
    "lgb_mcc = (TP_lgb * TN_lgb - FP_lgb * FN_lgb) / float(math.sqrt(lgb_x))\n",
    "\n",
    "print(\"Accuracy ---> {0}\".format(lgb_accuracy))\n",
    "print(\"Missclassification ---> {0}\".format(lgb_misclassification))\n",
    "print(\"Sensitivity ---> {0}\".format(lgb_sensitivity))\n",
    "print(\"Sensitivity ---> {0}\".format(lgb_specificity))\n",
    "print(\"Precision ---> {0}\".format(lgb_precision))\n",
    "print(\"F1_Score ---> {0}\".format(lgb_f1))\n",
    "print(\"MCC ---> {0}\".format(lgb_mcc))"
   ]
  },
  {
   "cell_type": "code",
   "execution_count": 186,
   "metadata": {},
   "outputs": [
    {
     "name": "stdout",
     "output_type": "stream",
     "text": [
      "--- 0.15488886833190918 seconds ---\n"
     ]
    }
   ],
   "source": [
    "#Applying PCA to lgb\n",
    "from sklearn.decomposition import PCA\n",
    "import time \n",
    "start_time = time.time()\n",
    "pca= PCA(n_components=2)\n",
    "X_train_new = pca.fit_transform(X_train)\n",
    "X_test_new=pca.transform(X_test)\n",
    "classifier_lgb.fit(X_train_new, y_train)\n",
    "y_pred_lgb_new=classifier_lgb.predict(X_test_new)\n",
    "accuracy_score(y_test, y_pred_lgb_new)\n",
    "print(\"--- %s seconds ---\" % (time.time() - start_time))\n"
   ]
  },
  {
   "cell_type": "code",
   "execution_count": 187,
   "metadata": {},
   "outputs": [
    {
     "name": "stdout",
     "output_type": "stream",
     "text": [
      "1.0\n",
      "1.0\n",
      "1.0\n"
     ]
    },
    {
     "data": {
      "text/plain": [
       "array([[26,  0],\n",
       "       [ 0, 41]], dtype=int64)"
      ]
     },
     "execution_count": 187,
     "metadata": {},
     "output_type": "execute_result"
    }
   ],
   "source": [
    "\n",
    "from sklearn.metrics import accuracy_score, f1_score, precision_score, recall_score, classification_report, confusion_matrix\n",
    "f1_lgb_new = f1_score(y_test, y_pred_lgb_new)\n",
    "prec_lgb_new = precision_score(y_test, y_pred_lgb_new)\n",
    "recall_lgb_new = recall_score(y_test, y_pred_lgb_new)\n",
    "print(f1_lgb_new)\n",
    "print(prec_lgb_new)\n",
    "print(recall_lgb_new)\n",
    "#f1_score=0.9859, precision= 0.9722 ,recall=1.0\n",
    "#f1_score=0.9850, precision= 1.0 ,recall=0.9705\n",
    "#1,1,1\n",
    "\n",
    "\n",
    "\n",
    "#Making confusion matrix\n",
    "from sklearn.metrics import confusion_matrix\n",
    "cm_lgb_new=confusion_matrix(y_test, y_pred_lgb_new)\n",
    "cm_lgb_new\n"
   ]
  },
  {
   "cell_type": "code",
   "execution_count": 188,
   "metadata": {},
   "outputs": [
    {
     "name": "stdout",
     "output_type": "stream",
     "text": [
      "Accuracy ---> 1.0\n",
      "Missclassification ---> 0.0\n",
      "Sensitivity ---> 1.0\n",
      "Specificity ---> 1.0\n",
      "Precision ---> 1.0\n",
      "F1_Score ---> 1.0\n",
      "MCC ---> 1.0\n"
     ]
    }
   ],
   "source": [
    "TP_lgb_new = cm_lgb_new[0][0]\n",
    "FP_lgb_new = cm_lgb_new[0][1]\n",
    "FN_lgb_new = cm_lgb_new[1][0]\n",
    "TN_lgb_new = cm_lgb_new[1][1]\n",
    "\n",
    "# calculate accuracy\n",
    "lgb_accuracy_new = (float (TP_lgb_new+TN_lgb_new) / float(TP_lgb_new + TN_lgb_new + FP_lgb_new + FN_lgb_new))\n",
    "    \n",
    "# calculate mis-classification\n",
    "lgb_misclassification_new = 1- lgb_accuracy_new\n",
    "    \n",
    "# calculate the sensitivity\n",
    "lgb_sensitivity_new = (TP_lgb_new / float(TP_lgb_new + FN_lgb_new))    # calculate the specificity\n",
    "lgb_specificity_new = (TN_lgb_new / float(TN_lgb_new + FP_lgb_new))\n",
    "# calculate precision\n",
    "lgb_precision_new = (TN_lgb_new / float(TN_lgb_new + FP_lgb_new))    # calculate f_1 score\n",
    "lgb_f1_new = 2 * ((lgb_precision_new * lgb_sensitivity_new) / (lgb_precision_new + lgb_sensitivity_new))\n",
    "\n",
    "# calculate MCC\n",
    "import math\n",
    "lgb_x_new= (TP_lgb_new +FP_lgb_new) * (TP_lgb_new + FN_lgb_new) * (TN_lgb_new + FP_lgb_new) * (TN_lgb_new + FN_lgb_new)\n",
    "lgb_mcc_new = (TP_lgb_new * TN_lgb_new - FP_lgb_new * FN_lgb_new) / float(math.sqrt(lgb_x_new))\n",
    "\n",
    "print(\"Accuracy ---> {0}\".format(lgb_accuracy_new))\n",
    "print(\"Missclassification ---> {0}\".format(lgb_misclassification_new))\n",
    "print(\"Sensitivity ---> {0}\".format(lgb_sensitivity_new))\n",
    "print(\"Specificity ---> {0}\".format(lgb_specificity_new))\n",
    "print(\"Precision ---> {0}\".format(lgb_precision_new))\n",
    "print(\"F1_Score ---> {0}\".format(lgb_f1_new))\n",
    "print(\"MCC ---> {0}\".format(lgb_mcc_new))\n",
    "\n",
    "\n"
   ]
  },
  {
   "cell_type": "code",
   "execution_count": 189,
   "metadata": {},
   "outputs": [
    {
     "data": {
      "image/png": "[encoded data removed]",
      "text/plain": [
       "<Figure size 432x288 with 2 Axes>"
      ]
     },
     "metadata": {},
     "output_type": "display_data"
    }
   ],
   "source": [
    "\n",
    "#Making confusion matrix\n",
    "from sklearn.metrics import confusion_matrix\n",
    "import seaborn as sns\n",
    "cm_lgb=confusion_matrix(y_test, y_pred_lgb_new)\n",
    "\n",
    "df_cm_lgb = pd.DataFrame(cm_lgb, range(2), range(2))\n",
    "sns.set(font_scale=1.4) #label size\n",
    "sns.heatmap(df_cm_lgb, annot=True, annot_kws={\"size\": 16}) #font size\n",
    "\n",
    "\n",
    "plt.show()"
   ]
  },
  {
   "cell_type": "markdown",
   "metadata": {},
   "source": [
    "# CATBoost"
   ]
  },
  {
   "cell_type": "code",
   "execution_count": 190,
   "metadata": {},
   "outputs": [
    {
     "name": "stdout",
     "output_type": "stream",
     "text": [
      "<function accuracy_score at 0x00000247E6EF92F0>\n",
      "--- 0.5247597694396973 seconds ---\n"
     ]
    }
   ],
   "source": [
    "#cgb\n",
    "from catboost import CatBoostClassifier\n",
    "import time \n",
    "start_time = time.time()\n",
    "classifier_cgb =CatBoostClassifier(verbose=0, n_estimators=100)\n",
    "classifier_cgb.fit(X_train, y_train)\n",
    "y_pred_cgb=classifier_cgb.predict(X_test)\n",
    "from sklearn.metrics import accuracy_score\n",
    "accuracy_score(y_test, y_pred_cgb)\n",
    "print(accuracy_score)\n",
    "print(\"--- %s seconds ---\" % (time.time() - start_time))"
   ]
  },
  {
   "cell_type": "code",
   "execution_count": 191,
   "metadata": {},
   "outputs": [
    {
     "name": "stdout",
     "output_type": "stream",
     "text": [
      "0.9876543209876543\n",
      "1.0\n",
      "0.975609756097561\n"
     ]
    },
    {
     "data": {
      "text/plain": [
       "array([[26,  0],\n",
       "       [ 1, 40]], dtype=int64)"
      ]
     },
     "execution_count": 191,
     "metadata": {},
     "output_type": "execute_result"
    }
   ],
   "source": [
    "\n",
    "from sklearn.metrics import accuracy_score, f1_score, precision_score, recall_score, classification_report, confusion_matrix\n",
    "f1_cgb = f1_score(y_test, y_pred_cgb)\n",
    "prec_cgb = precision_score(y_test, y_pred_cgb)\n",
    "recall_cgb = recall_score(y_test, y_pred_cgb)\n",
    "print(f1_cgb)\n",
    "print(prec_cgb)\n",
    "print(recall_cgb)\n",
    "#f1_score=0.9859, precision= 0.9722 ,recall=1.0\n",
    "#f1_score=0.9846, precision= 1.0 ,recall=0.9696\n",
    "#f1_score=0.9841, precision= 0.9687 ,recall=1.0\n",
    "#f1_score=0.9841, precision= 1.0 ,recall=0.96875\n",
    "\n",
    "\n",
    "\n",
    "#Making confusion matrix\n",
    "from sklearn.metrics import confusion_matrix\n",
    "cm_cgb=confusion_matrix(y_test, y_pred_cgb)\n",
    "cm_cgb\n"
   ]
  },
  {
   "cell_type": "code",
   "execution_count": 192,
   "metadata": {},
   "outputs": [
    {
     "name": "stdout",
     "output_type": "stream",
     "text": [
      "Accuracy ---> 0.9850746268656716\n",
      "Missclassification ---> 0.014925373134328401\n",
      "Sensitivity ---> 0.9629629629629629\n",
      "Sensitivity ---> 1.0\n",
      "Precision ---> 1.0\n",
      "F1_Score ---> 0.9811320754716981\n",
      "MCC ---> 0.9692657331337372\n"
     ]
    }
   ],
   "source": [
    "\n",
    "TP_cgb = cm_cgb[0][0]\n",
    "FP_cgb = cm_cgb[0][1]\n",
    "FN_cgb = cm_cgb[1][0]\n",
    "TN_cgb = cm_cgb[1][1]\n",
    "\n",
    "# calculate accuracy\n",
    "cgb_accuracy = (float (TP_cgb+TN_cgb) / float(TP_cgb + TN_cgb + FP_cgb + FN_cgb))\n",
    "    \n",
    "# calculate mis-classification\n",
    "cgb_misclassification = 1- cgb_accuracy\n",
    "    \n",
    "# calculate the sensitivity\n",
    "cgb_sensitivity = (TP_cgb / float(TP_cgb + FN_cgb))    # calculate the specificity\n",
    "cgb_specificity = (TN_cgb / float(TN_cgb + FP_cgb))\n",
    "# calculate precision\n",
    "cgb_precision = (TN_cgb / float(TN_cgb + FP_cgb))    # calculate f_1 score\n",
    "cgb_f1 = 2 * ((cgb_precision * cgb_sensitivity) / (cgb_precision + cgb_sensitivity))\n",
    "\n",
    "# calculate MCC\n",
    "import math\n",
    "cgb_x= (TP_cgb +FP_cgb) * (TP_cgb + FN_cgb) * (TN_cgb + FP_cgb) * (TN_cgb + FN_cgb)\n",
    "cgb_mcc = (TP_cgb * TN_cgb - FP_cgb * FN_cgb) / float(math.sqrt(cgb_x))\n",
    "\n",
    "print(\"Accuracy ---> {0}\".format(cgb_accuracy))\n",
    "print(\"Missclassification ---> {0}\".format(cgb_misclassification))\n",
    "print(\"Sensitivity ---> {0}\".format(cgb_sensitivity))\n",
    "print(\"Sensitivity ---> {0}\".format(cgb_specificity))\n",
    "print(\"Precision ---> {0}\".format(cgb_precision))\n",
    "print(\"F1_Score ---> {0}\".format(cgb_f1))\n",
    "print(\"MCC ---> {0}\".format(cgb_mcc))"
   ]
  },
  {
   "cell_type": "code",
   "execution_count": 193,
   "metadata": {},
   "outputs": [
    {
     "name": "stdout",
     "output_type": "stream",
     "text": [
      "--- 0.35984206199645996 seconds ---\n"
     ]
    }
   ],
   "source": [
    "#Applying PCA to cgb\n",
    "from sklearn.decomposition import PCA\n",
    "import time \n",
    "start_time = time.time()\n",
    "pca= PCA(n_components=2)\n",
    "X_train_new = pca.fit_transform(X_train)\n",
    "X_test_new=pca.transform(X_test)\n",
    "classifier_cgb.fit(X_train_new, y_train)\n",
    "y_pred_cgb_new=classifier_cgb.predict(X_test_new)\n",
    "accuracy_score(y_test, y_pred_cgb_new)\n",
    "print(\"--- %s seconds ---\" % (time.time() - start_time))\n"
   ]
  },
  {
   "cell_type": "code",
   "execution_count": 194,
   "metadata": {},
   "outputs": [
    {
     "name": "stdout",
     "output_type": "stream",
     "text": [
      "1.0\n",
      "1.0\n",
      "1.0\n"
     ]
    },
    {
     "data": {
      "text/plain": [
       "array([[26,  0],\n",
       "       [ 0, 41]], dtype=int64)"
      ]
     },
     "execution_count": 194,
     "metadata": {},
     "output_type": "execute_result"
    }
   ],
   "source": [
    "\n",
    "from sklearn.metrics import accuracy_score, f1_score, precision_score, recall_score, classification_report, confusion_matrix\n",
    "f1_cgb_new = f1_score(y_test, y_pred_cgb_new)\n",
    "prec_cgb_new = precision_score(y_test, y_pred_cgb_new)\n",
    "recall_cgb_new = recall_score(y_test, y_pred_cgb_new)\n",
    "print(f1_cgb_new)\n",
    "print(prec_cgb_new)\n",
    "print(recall_cgb_new)\n",
    "#f1_score=0.9859, precision= 0.9722 ,recall=1.0\n",
    "#f1_score=0.9850, precision= 1.0 ,recall=0.9705\n",
    "#1,1,1\n",
    "\n",
    "\n",
    "\n",
    "#Making confusion matrix\n",
    "from sklearn.metrics import confusion_matrix\n",
    "cm_cgb_new=confusion_matrix(y_test, y_pred_cgb_new)\n",
    "cm_cgb_new"
   ]
  },
  {
   "cell_type": "code",
   "execution_count": 195,
   "metadata": {},
   "outputs": [
    {
     "name": "stdout",
     "output_type": "stream",
     "text": [
      "Accuracy ---> 1.0\n",
      "Missclassification ---> 0.0\n",
      "Sensitivity ---> 1.0\n",
      "Specificity ---> 1.0\n",
      "Precision ---> 1.0\n",
      "F1_Score ---> 1.0\n",
      "MCC ---> 1.0\n"
     ]
    }
   ],
   "source": [
    "TP_cgb_new = cm_cgb_new[0][0]\n",
    "FP_cgb_new = cm_cgb_new[0][1]\n",
    "FN_cgb_new = cm_cgb_new[1][0]\n",
    "TN_cgb_new = cm_cgb_new[1][1]\n",
    "\n",
    "# calculate accuracy\n",
    "cgb_accuracy_new = (float (TP_cgb_new+TN_cgb_new) / float(TP_cgb_new + TN_cgb_new + FP_cgb_new + FN_cgb_new))\n",
    "    \n",
    "# calculate mis-classification\n",
    "cgb_misclassification_new = 1- cgb_accuracy_new\n",
    "    \n",
    "# calculate the sensitivity\n",
    "cgb_sensitivity_new = (TP_cgb_new / float(TP_cgb_new + FN_cgb_new))    # calculate the specificity\n",
    "cgb_specificity_new = (TN_cgb_new / float(TN_cgb_new + FP_cgb_new))\n",
    "# calculate precision\n",
    "cgb_precision_new = (TN_cgb_new / float(TN_cgb_new + FP_cgb_new))    # calculate f_1 score\n",
    "cgb_f1_new = 2 * ((cgb_precision_new * cgb_sensitivity_new) / (cgb_precision_new + cgb_sensitivity_new))\n",
    "\n",
    "# calculate MCC\n",
    "import math\n",
    "cgb_x_new= (TP_cgb_new +FP_cgb_new) * (TP_cgb_new + FN_cgb_new) * (TN_cgb_new + FP_cgb_new) * (TN_cgb_new + FN_cgb_new)\n",
    "cgb_mcc_new = (TP_cgb_new * TN_cgb_new - FP_cgb_new * FN_cgb_new) / float(math.sqrt(cgb_x_new))\n",
    "\n",
    "print(\"Accuracy ---> {0}\".format(cgb_accuracy_new))\n",
    "print(\"Missclassification ---> {0}\".format(cgb_misclassification_new))\n",
    "print(\"Sensitivity ---> {0}\".format(cgb_sensitivity_new))\n",
    "print(\"Specificity ---> {0}\".format(cgb_specificity_new))\n",
    "print(\"Precision ---> {0}\".format(cgb_precision_new))\n",
    "print(\"F1_Score ---> {0}\".format(cgb_f1_new))\n",
    "print(\"MCC ---> {0}\".format(cgb_mcc_new))"
   ]
  },
  {
   "cell_type": "code",
   "execution_count": 196,
   "metadata": {},
   "outputs": [
    {
     "data": {
      "image/png": "[encoded data removed]",
      "text/plain": [
       "<Figure size 432x288 with 2 Axes>"
      ]
     },
     "metadata": {},
     "output_type": "display_data"
    }
   ],
   "source": [
    "\n",
    "#Making confusion matrix\n",
    "from sklearn.metrics import confusion_matrix\n",
    "import seaborn as sns\n",
    "cm_cgb=confusion_matrix(y_test, y_pred_cgb_new)\n",
    "\n",
    "df_cm_cgb = pd.DataFrame(cm_cgb, range(2), range(2))\n",
    "sns.set(font_scale=1.4) #label size\n",
    "sns.heatmap(df_cm_cgb, annot=True, annot_kws={\"size\": 16}) #font size\n",
    "\n",
    "\n",
    "plt.show()"
   ]
  },
  {
   "cell_type": "code",
   "execution_count": null,
   "metadata": {},
   "outputs": [],
   "source": []
  },
  {
   "cell_type": "code",
   "execution_count": null,
   "metadata": {},
   "outputs": [],
   "source": []
  }
 ],
 "metadata": {
  "kernelspec": {
   "display_name": "Python 3",
   "language": "python",
   "name": "python3"
  },
  "language_info": {
   "codemirror_mode": {
    "name": "ipython",
    "version": 3
   },
   "file_extension": ".py",
   "mimetype": "text/x-python",
   "name": "python",
   "nbconvert_exporter": "python",
   "pygments_lexer": "ipython3",
   "version": "3.7.1"
  }
 },
 "nbformat": 4,
 "nbformat_minor": 2
}
